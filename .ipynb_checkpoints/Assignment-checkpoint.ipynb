{
 "cells": [
  {
   "cell_type": "markdown",
   "id": "3cfa81e9",
   "metadata": {},
   "source": [
    "### Lapindrome"
   ]
  },
  {
   "cell_type": "code",
   "execution_count": 2,
   "id": "2c2c0442",
   "metadata": {},
   "outputs": [
    {
     "name": "stdout",
     "output_type": "stream",
     "text": [
      "Enter list of words: abcccab roshannroshan pistolTpistol\n",
      "{'abcccab': 'isLapindrome', 'roshannroshan': 'isLapindrome', 'pistolTpistol': 'isLapindrome'}\n"
     ]
    }
   ],
   "source": [
    "def myList(words):\n",
    "    return [x for x in input(\"Enter list of words: \").split()]\n",
    "\n",
    "def isLapindrome(s):\n",
    "    l = len(s)\n",
    "    \n",
    "    # a dict for the characters of first half of string with their frequency as values\n",
    "    sub1 = {}\n",
    "    \n",
    "    # a dict for the characters of second half of string with their frequency as values\n",
    "    sub2 = {}\n",
    "    \n",
    "    for i in s[:l//2]:\n",
    "        sub1[i] = s[:l//2].count(i)\n",
    "    \n",
    "    # if length of word is even\n",
    "    if l % 2 == 0:\n",
    "        for i in s[l//2:]:\n",
    "            sub2[i] = s[l//2:].count(i)\n",
    "    # if length of word is odd \n",
    "    else:\n",
    "        for i in s[l//2 + 1 : ]:\n",
    "            sub2[i] = s[l//2 + 1:].count(i)\n",
    "            \n",
    "    #checking if both the dicts are equal or not\n",
    "    if sub1 == sub2:\n",
    "        return True\n",
    "    else:\n",
    "        return False\n",
    "    \n",
    "def Lapindromes(words):\n",
    "    # a dict to store isLapindrome or isNotLapindrome for given set of words\n",
    "    d = {}\n",
    "    for i in words:\n",
    "        if isLapindrome(i):\n",
    "            d[i] = 'isLapindrome'\n",
    "        else:\n",
    "            d[i] = 'isNotLaprindrome'\n",
    "    return d\n",
    "\n",
    "words = []\n",
    "words = myList(words)\n",
    "d = Lapindromes(words)\n",
    "print(d)"
   ]
  },
  {
   "cell_type": "markdown",
   "id": "895c37e8",
   "metadata": {},
   "source": [
    "### File with line numbers"
   ]
  },
  {
   "cell_type": "code",
   "execution_count": 4,
   "id": "87c50dc0",
   "metadata": {},
   "outputs": [
    {
     "name": "stdout",
     "output_type": "stream",
     "text": [
      "Enter file name: file1.txt\n",
      "Enter new file name: file2.txt\n",
      "Contents of original file: \n",
      "I am Roshan Ali\n",
      "I am a student RVR & JC College of Engineering\n",
      "I am a CSE student\n",
      "Regd. no.: Y21CS160\n",
      "\n",
      "Contents of new file: \n",
      "1: I am Roshan Ali\n",
      "2: I am a student RVR & JC College of Engineering\n",
      "3: I am a CSE student\n",
      "4: Regd. no.: Y21CS160\n",
      "\n"
     ]
    }
   ],
   "source": [
    "n1 = input(\"Enter file name: \")\n",
    "n2 = input(\"Enter new file name: \")\n",
    "\n",
    "# first file to copy data from\n",
    "f1 = open(n1, 'r')\n",
    "# second file to write the data with line numbers\n",
    "f2 = open(n2, 'w')\n",
    "\n",
    "# using i for line numbers\n",
    "i = 1\n",
    "\n",
    "for line in f1.readlines():\n",
    "    # printing in the format \"<line number>: <line>\"\n",
    "    f2.write(str(i) + ': ' + line)\n",
    "    #increasing the line number\n",
    "    i += 1\n",
    "\n",
    "f1.close()\n",
    "f2.close()\n",
    "\n",
    "# opening the files to print and compare the changes in both files\n",
    "f1 = open(n1, 'r')\n",
    "f2 = open(n2, 'r')\n",
    "\n",
    "#printing original contents of first file\n",
    "print(\"Contents of original file: \")\n",
    "print(f1.read())\n",
    "    \n",
    "f2 = open(n2, 'r')\n",
    "#printing the contents of the new file\n",
    "print(\"Contents of new file: \")\n",
    "print(f2.read())"
   ]
  },
  {
   "cell_type": "markdown",
   "id": "cd0d4f98",
   "metadata": {},
   "source": [
    "### Spiral form of a matrix"
   ]
  },
  {
   "cell_type": "code",
   "execution_count": 5,
   "id": "dc4f639f",
   "metadata": {},
   "outputs": [
    {
     "name": "stdout",
     "output_type": "stream",
     "text": [
      "Enter number of rows: 4\n",
      "Enter number of columns: 4\n",
      "Enter elements of row 1: 1 2 3 4\n",
      "Enter elements of row 2: 5 6 7 8\n",
      "Enter elements of row 3: 9 10 11 12\n",
      "Enter elements of row 4: 13 14 15 16\n",
      "1 2 3 4 8 12 16 15 14 13 9 5 6 7 11 10 "
     ]
    }
   ],
   "source": [
    "def spiral(m, n, matrix):\n",
    "    k = l = 0\n",
    "    while k < m and l < n:\n",
    "        \n",
    "        #for moving to right\n",
    "        for i in range(l, n):\n",
    "            print(matrix[k][i], end = ' ')\n",
    "        k += 1\n",
    "        \n",
    "        #for moving down\n",
    "        for i in range(k, m):\n",
    "            print(matrix[i][n - 1], end = ' ')\n",
    "        n -= 1\n",
    "        \n",
    "        #for moving left\n",
    "        if k < m:\n",
    "            for i in range(n - 1, l - 1, -1):\n",
    "                print(matrix[m - 1][i], end = ' ')\n",
    "            m -= 1\n",
    "        \n",
    "        #for moving up\n",
    "        if l < n:\n",
    "            for i in range(m - 1, k - 1, -1):\n",
    "                print(matrix[i][l], end = ' ')\n",
    "            l += 1\n",
    "            \n",
    "m = int(input(\"Enter number of rows: \"))\n",
    "n = int(input(\"Enter number of columns: \"))\n",
    "matrix = []\n",
    "\n",
    "for i in range(m):\n",
    "    row = [int(x) for x in input(f\"Enter elements of row {i+1}: \").split()]\n",
    "    matrix.append(row)\n",
    "    \n",
    "spiral(m, n, matrix)"
   ]
  },
  {
   "cell_type": "markdown",
   "id": "51553149",
   "metadata": {},
   "source": [
    "### Permutations of a string using recursion"
   ]
  },
  {
   "cell_type": "code",
   "execution_count": 6,
   "id": "021682c5",
   "metadata": {},
   "outputs": [
    {
     "name": "stdout",
     "output_type": "stream",
     "text": [
      "Enter the string : just\n",
      "All possible strings are : \n",
      "just juts jsut jstu jtus jtsu ujst ujts usjt ustj utjs utsj sjut sjtu sujt sutj stju stuj tjus tjsu tujs tusj tsju tsuj "
     ]
    }
   ],
   "source": [
    "def permutation(s, answer):\n",
    "    if (len(s) == 0):\n",
    "        print(answer, end = \" \")\n",
    "        return\n",
    "    \n",
    "    for i in range(len(s)):\n",
    "        ch = s[i]\n",
    "        left_substr = s[0:i]\n",
    "        right_substr = s[i + 1:]\n",
    "        rest = left_substr + right_substr\n",
    "        permutation(rest, answer + ch)\n",
    "\n",
    "answer = \"\"\n",
    "\n",
    "s = input(\"Enter the string : \")\n",
    "\n",
    "print(\"All possible strings are : \")\n",
    "permutation(s, answer)"
   ]
  },
  {
   "cell_type": "markdown",
   "id": "8ea0994b",
   "metadata": {},
   "source": [
    "### Flames game"
   ]
  },
  {
   "cell_type": "code",
   "execution_count": 7,
   "id": "a7c4c093",
   "metadata": {},
   "outputs": [
    {
     "name": "stdout",
     "output_type": "stream",
     "text": [
      "Enter your name: Roshan\n",
      "Enter your crush name: COmputer\n",
      "Relationship status : Lovers\n"
     ]
    }
   ],
   "source": [
    "def flames(n1,n2):\n",
    "    \n",
    "    for i in n1:\n",
    "        if i in n2:\n",
    "            n2 = n2.replace(i,'',1)\n",
    "            n1 = n1.replace(i,'',1)\n",
    "\n",
    "    n = len(n1+n2)\n",
    "    F = [\"Friends\", \"Lovers\", \"Affection\", \"Marriage\", \"Enemies\", \"Siblings\"]\n",
    "\n",
    "    while len(F) > 1 :\n",
    "        i = (n % len(F) - 1)\n",
    "        if i >= 0:\n",
    "            F = F[i+1:] + F[:i]\n",
    "        else:\n",
    "            F = F[:-1]\n",
    "        \n",
    "    print(\"Relationship status :\", F[0])\n",
    "\n",
    "n1 = input(\"Enter your name: \").replace(' ','').upper()\n",
    "n2 = input(\"Enter your crush name: \").replace(' ','').upper()\n",
    "\n",
    "if n1 == n2:\n",
    "    print(\"Flames on same names not possible\")\n",
    "    exit(0)\n",
    "\n",
    "flames(n1,n2)"
   ]
  },
  {
   "cell_type": "markdown",
   "id": "53400bfc",
   "metadata": {},
   "source": [
    "### Life Path Number"
   ]
  },
  {
   "cell_type": "code",
   "execution_count": 8,
   "id": "11febe10",
   "metadata": {},
   "outputs": [
    {
     "name": "stdout",
     "output_type": "stream",
     "text": [
      "Enter date of birth(dd-mm-yyyy): 26-07-2004\n",
      "Nature of person according to DOB:  Helpful\n"
     ]
    }
   ],
   "source": [
    "def sum_of_digits(n):\n",
    "    sum = 0\n",
    "    for i in str(n):\n",
    "        sum += int(i)\n",
    "    if sum < 10:\n",
    "        return sum\n",
    "    else:\n",
    "        return sum_of_digits(sum)\n",
    "\n",
    "def LPN(d, m, y):\n",
    "    d = sum_of_digits(d)\n",
    "    m = sum_of_digits(m)\n",
    "    y = sum_of_digits(y)\n",
    "    if d+m+y < 10:\n",
    "        return d + m + y\n",
    "    else:\n",
    "        return sum_of_digits(d + m + y)\n",
    "\n",
    "d, m, y = [int(x) for x in input(\"Enter date of birth(dd-mm-yyyy): \").split('-')]\n",
    "nature = {1:'Independent', 2:'Introvert', 3:'Helpful', 4:'Practical', 5:'Extrovert', 6:'Responsible', 7:'Pious', 8:'Ambitious', 9:'Leader'}\n",
    "print(\"Nature of person according to DOB: \", nature[LPN(d, m, y)])"
   ]
  }
 ],
 "metadata": {
  "kernelspec": {
   "display_name": "Python 3 (ipykernel)",
   "language": "python",
   "name": "python3"
  },
  "language_info": {
   "codemirror_mode": {
    "name": "ipython",
    "version": 3
   },
   "file_extension": ".py",
   "mimetype": "text/x-python",
   "name": "python",
   "nbconvert_exporter": "python",
   "pygments_lexer": "ipython3",
   "version": "3.10.5"
  }
 },
 "nbformat": 4,
 "nbformat_minor": 5
}
