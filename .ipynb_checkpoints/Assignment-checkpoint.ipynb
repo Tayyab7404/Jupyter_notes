{
 "cells": [
  {
   "cell_type": "markdown",
   "id": "1911622f",
   "metadata": {},
   "source": [
    "### Lapindrome"
   ]
  },
  {
   "cell_type": "code",
   "execution_count": 3,
   "id": "db6d96de",
   "metadata": {},
   "outputs": [
    {
     "name": "stdout",
     "output_type": "stream",
     "text": [
      "Enter list of words: abcccab\n",
      "abc\n",
      "cab\n",
      "{'abcccab': 'isLapindrome'}\n"
     ]
    }
   ],
   "source": [
    "def myList(words):\n",
    "    return [x for x in input(\"Enter list of words: \").split()]\n",
    "\n",
    "def isLapindrome(s):\n",
    "    l = len(s)\n",
    "    \n",
    "    # a dict for the characters of first half of string with their frequency as values\n",
    "    sub1 = {}\n",
    "    \n",
    "    # a dict for the characters of second half of string with their frequency as values\n",
    "    sub2 = {}\n",
    "    \n",
    "    for i in s[:l//2]:\n",
    "        sub1[i] = s[:l//2].count(i)\n",
    "    \n",
    "    # if length of word is even\n",
    "    if l % 2 == 0:\n",
    "        for i in s[l//2:]:\n",
    "            sub2[i] = s[l//2:].count(i)\n",
    "    # if length of word is odd \n",
    "    else:\n",
    "        for i in s[l//2 + 1 : ]:\n",
    "            sub2[i] = s[l//2+1:].count(i)\n",
    "            \n",
    "    #checking if both the dicts are equal or not\n",
    "    if sub1 == sub2:\n",
    "        return True\n",
    "    else:\n",
    "        return False\n",
    "    \n",
    "def Lapindromes(words):\n",
    "    # a dict to store isLapindrome or isNotLapindrome for given set of words\n",
    "    d = {}\n",
    "    for i in words:\n",
    "        if isLapindrome(i):\n",
    "            d[i] = 'isLapindrome'\n",
    "        else:\n",
    "            d[i] = 'isNotLaprindrome'\n",
    "    return d\n",
    "\n",
    "words = []\n",
    "words = myList(words)\n",
    "d = Lapindromes(words)\n",
    "print(d)"
   ]
  },
  {
   "cell_type": "markdown",
   "id": "ff54634e",
   "metadata": {},
   "source": [
    "### File with line numbers"
   ]
  },
  {
   "cell_type": "code",
   "execution_count": 14,
   "id": "7ea13272",
   "metadata": {},
   "outputs": [
    {
     "name": "stdout",
     "output_type": "stream",
     "text": [
      "Enter file name: file1.txt\n",
      "Enter new file name: file2.txt\n",
      "Contents of original file: \n",
      "I am Roshan Ali\n",
      "I am a student RVR & JC College of Engineering\n",
      "I am a CSE student\n",
      "Regd. no.: Y21CS160\n",
      "\n",
      "Contents of new file: \n",
      "1: I am Roshan Ali\n",
      "2: I am a student RVR & JC College of Engineering\n",
      "3: I am a CSE student\n",
      "4: Regd. no.: Y21CS160\n",
      "\n"
     ]
    }
   ],
   "source": [
    "n1 = input(\"Enter file name: \")\n",
    "n2 = input(\"Enter new file name: \")\n",
    "\n",
    "# first file to copy data from\n",
    "f1 = open(n1, 'r')\n",
    "# second file to write the data with line numbers\n",
    "f2 = open(n2, 'w')\n",
    "\n",
    "#reading the entire text of the file\n",
    "text = f1.read()\n",
    "\n",
    "#changing the cursor position back to the starting of the file\n",
    "f1.seek(0,0)\n",
    "\n",
    "# reading the lines of first file as a list\n",
    "lines = f1.readlines()\n",
    "\n",
    "# using i for line numbers\n",
    "i = 1\n",
    "\n",
    "for line in lines:\n",
    "    # printing in the format \"<line number>: <line>\"\n",
    "    f2.write(str(i) + ': ' + line)\n",
    "    #increasing the line number\n",
    "    i += 1\n",
    "\n",
    "f1.close()\n",
    "f2.close()\n",
    "\n",
    "#printing original contents of first file\n",
    "print(\"Contents of original file: \")\n",
    "print(text)\n",
    "    \n",
    "f2 = open(n2, 'r')\n",
    "#printing the contents of the new file\n",
    "print(\"Contents of new file: \")\n",
    "print(f2.read())"
   ]
  },
  {
   "cell_type": "markdown",
   "id": "deadad8a",
   "metadata": {},
   "source": [
    "### Spiral form of a matrix"
   ]
  },
  {
   "cell_type": "code",
   "execution_count": 16,
   "id": "c993a080",
   "metadata": {},
   "outputs": [
    {
     "name": "stdout",
     "output_type": "stream",
     "text": [
      "Enter number of rows: 3\n",
      "Enter number of columns: 3\n",
      "Enter elements of row 1: 1 2 3\n",
      "Enter elements of row 2: 4 5 6\n",
      "Enter elements of row 3: 7 8 9\n",
      "1 2 3 6 9 8 7 4 5 "
     ]
    }
   ],
   "source": [
    "def spiral(m, n, matrix):\n",
    "    k = l = 0\n",
    "    while k < m and l < n:\n",
    "        \n",
    "        #for moving to right\n",
    "        for i in range(l, n):\n",
    "            print(matrix[k][i], end = ' ')\n",
    "        k += 1\n",
    "        \n",
    "        #for moving down\n",
    "        for i in range(k, m):\n",
    "            print(matrix[i][n - 1], end = ' ')\n",
    "        n -= 1\n",
    "        \n",
    "        #for moving left\n",
    "        if k < m:\n",
    "            for i in range(n - 1, l - 1, -1):\n",
    "                print(matrix[m - 1][i], end = ' ')\n",
    "            m -= 1\n",
    "        \n",
    "        #for moving up\n",
    "        if l < n:\n",
    "            for i in range(m - 1, k - 1, -1):\n",
    "                print(matrix[i][l], end = ' ')\n",
    "            l += 1\n",
    "            \n",
    "m = int(input(\"Enter number of rows: \"))\n",
    "n = int(input(\"Enter number of columns: \"))\n",
    "matrix = []\n",
    "\n",
    "for i in range(m):\n",
    "    row = [int(x) for x in input(f\"Enter elements of row {i+1}: \").split()]\n",
    "    matrix.append(row)\n",
    "    \n",
    "spiral(m, n, matrix)"
   ]
  },
  {
   "cell_type": "markdown",
   "id": "6854856a",
   "metadata": {},
   "source": [
    "### Permutations of a string using recursion"
   ]
  },
  {
   "cell_type": "code",
   "execution_count": 18,
   "id": "551024d2",
   "metadata": {},
   "outputs": [
    {
     "name": "stdout",
     "output_type": "stream",
     "text": [
      "Enter the string : hash\n",
      "All possible strings are : \n",
      "hash hahs hsah hsha hhas hhsa ahsh ahhs ashh ashh ahhs ahsh shah shha sahh sahh shha shah hhas hhsa hahs hash hsha hsah "
     ]
    }
   ],
   "source": [
    "def permutation(s, answer):\n",
    "    if (len(s) == 0):\n",
    "        print(answer, end = \" \")\n",
    "        return\n",
    "    \n",
    "    for i in range(len(s)):\n",
    "        ch = s[i]\n",
    "        left_substr = s[0:i]\n",
    "        right_substr = s[i + 1:]\n",
    "        rest = left_substr + right_substr\n",
    "        permutation(rest, answer + ch)\n",
    "\n",
    "answer = \"\"\n",
    "\n",
    "s = input(\"Enter the string : \")\n",
    "\n",
    "print(\"All possible strings are : \")\n",
    "permutation(s, answer)"
   ]
  },
  {
   "cell_type": "markdown",
   "id": "9789f014",
   "metadata": {},
   "source": [
    "### Flames game"
   ]
  },
  {
   "cell_type": "code",
   "execution_count": 17,
   "id": "940c0575",
   "metadata": {},
   "outputs": [
    {
     "name": "stdout",
     "output_type": "stream",
     "text": [
      "Enter your name: Akshitha\n",
      "Enter your crush name: Harshitha\n",
      "3\n",
      "Relationship status : Friends\n"
     ]
    }
   ],
   "source": [
    "def flames(n1,n2):\n",
    "    \n",
    "    for i in n1:\n",
    "        if i in n2:\n",
    "            n2 = n2.replace(i,'',1)\n",
    "            n1 = n1.replace(i,'',1)\n",
    "\n",
    "    n = len(n1+n2)\n",
    "    F = [\"Friends\", \"Lovers\", \"Affection\", \"Marriage\", \"Enemies\", \"Siblings\"]\n",
    "\n",
    "    while len(F) > 1 :\n",
    "        i = (n % len(F) - 1)\n",
    "        if i >= 0:\n",
    "            F = F[i+1:] + F[:i]\n",
    "        else:\n",
    "            F = F[:-1]\n",
    "        \n",
    "    print(\"Relationship status :\", F[0])\n",
    "\n",
    "n1 = input(\"Enter your name: \").replace(' ','').upper()\n",
    "n2 = input(\"Enter your crush name: \").replace(' ','').upper()\n",
    "\n",
    "if n1 == n2:\n",
    "    print(\"Flames on same names not possible\")\n",
    "    exit(0)\n",
    "\n",
    "flames(n1,n2)"
   ]
  },
  {
   "cell_type": "markdown",
   "id": "752f71e1",
   "metadata": {},
   "source": [
    "### Life Path Number"
   ]
  },
  {
   "cell_type": "code",
   "execution_count": 32,
   "id": "11c93060",
   "metadata": {},
   "outputs": [
    {
     "name": "stdout",
     "output_type": "stream",
     "text": [
      "Enter date of birth(dd-mm-yyyy): 26-07-2004\n",
      "Nature of person according to DOB:  Helpful\n"
     ]
    }
   ],
   "source": [
    "def sum_of_digits(n):\n",
    "    sum = 0\n",
    "    for i in str(n):\n",
    "        sum += int(i)\n",
    "    if sum < 10:\n",
    "        return sum\n",
    "    else:\n",
    "        return sum_of_digits(sum)\n",
    "\n",
    "def LPN(d, m, y):\n",
    "    d = sum_of_digits(d)\n",
    "    m = sum_of_digits(m)\n",
    "    y = sum_of_digits(y)\n",
    "    if d+m+y < 10:\n",
    "        return d + m + y\n",
    "    else:\n",
    "        return sum_of_digits(d + m + y)\n",
    "\n",
    "d, m, y = [int(x) for x in input(\"Enter date of birth(dd-mm-yyyy): \").split('-')]\n",
    "nature = {1:'Independent', 2:'Introvert', 3:'Helpful', 4:'Practical', 5:'Extrovert', 6:'Responsible', 7:'Pious', 8:'Ambitious', 9:'Leader'}\n",
    "print(\"Nature of person according to DOB: \", nature[LPN(d, m, y)])"
   ]
  },
  {
   "cell_type": "markdown",
   "id": "79c9b21a",
   "metadata": {},
   "source": [
    "### Feature of Python programming language"
   ]
  },
  {
   "cell_type": "markdown",
   "id": "60c2702d",
   "metadata": {},
   "source": [
    "##### The main features of python programming are:\n",
    "- Python is an interpreted language.\n",
    "     - The program is executed line by line and is processed at runtime. There is no need to compile them seperately\n",
    "- Python is a portable language (or) platform independent\n",
    "     - A python program written in one operating system can be run in anyother operating systems with the python interpreter and no changes are needed.\n",
    "- Python is a dynamically typed language.\n",
    "     - In python we can directly initialize and declare a variable with a value of any type without specifiying\n",
    "- Python is a high-level language.\n",
    "     - It doesnot have to deal with system architecture nor does it have to deal with memory management.\n",
    "- Free and open source.\n",
    "     - Python is a free programming languge and it can be used in any operating system\n",
    "- Code is simple to read and write\n",
    "     - The indentation is simple and we do not need to declare the class and main method for every program unlike other languages like C, C++ and Java"
   ]
  },
  {
   "cell_type": "markdown",
   "id": "7abbe6c9",
   "metadata": {},
   "source": [
    "### Different types of arguments passed to a function"
   ]
  },
  {
   "cell_type": "markdown",
   "id": "161b22ec",
   "metadata": {},
   "source": [
    "##### There are 4 types of arguments passed to a function in python\n",
    "- Required arguments:\n",
    "    - The arguments that are mandatory to be passed for the execution of the function are called Required arguments. They can be of any type.\n",
    "    - Example: \n",
    "            def power(a, b):\n",
    "                return a**b\n",
    "            print(power(3,2))\n",
    "            \n",
    "- Keyword arguments:\n",
    "    - The arguments passed to a function using the variable names of parameters of the function are called Keyword arguments. They can be in anyorder irrespective of the order of parameters in the function defintion\n",
    "    - Example:\n",
    "            def power(a, b):\n",
    "                return a**b\n",
    "            print(power(b = 2, a = 3))\n",
    "- Default arguments:\n",
    "    - The arguments which are optional to be passed are called Default arguments. If no arguments are passed for the parameter then a default value is taken for the parameter."
   ]
  }
 ],
 "metadata": {
  "kernelspec": {
   "display_name": "Python 3 (ipykernel)",
   "language": "python",
   "name": "python3"
  },
  "language_info": {
   "codemirror_mode": {
    "name": "ipython",
    "version": 3
   },
   "file_extension": ".py",
   "mimetype": "text/x-python",
   "name": "python",
   "nbconvert_exporter": "python",
   "pygments_lexer": "ipython3",
   "version": "3.9.2"
  }
 },
 "nbformat": 4,
 "nbformat_minor": 5
}
