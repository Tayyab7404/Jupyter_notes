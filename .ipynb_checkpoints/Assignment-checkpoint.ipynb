{
 "cells": [
  {
   "cell_type": "markdown",
   "id": "1911622f",
   "metadata": {},
   "source": [
    "### Lapindrome"
   ]
  },
  {
   "cell_type": "code",
   "execution_count": 2,
   "id": "db6d96de",
   "metadata": {},
   "outputs": [
    {
     "name": "stdout",
     "output_type": "stream",
     "text": [
      "Enter list of words: abccab rotor xyzzxy\n",
      "{'abccab': 'isLapindrome', 'rotor': 'isLapindrome', 'xyzzxy': 'isLapindrome'}\n"
     ]
    }
   ],
   "source": [
    "def myList(words):\n",
    "    return [x for x in input(\"Enter list of words: \").split()]\n",
    "\n",
    "def isLapindrome(s):\n",
    "    l = len(s)\n",
    "    \n",
    "    # a dict for the characters of first half of string with their frequency as values\n",
    "    sub1 = {}\n",
    "    \n",
    "    # a dict for the characters of second half of string with their frequency as values\n",
    "    sub2 = {}\n",
    "    \n",
    "    for i in s[:l//2]:\n",
    "        sub1[i] = s[:l//2].count(i)\n",
    "    for i in s[l//2:]:\n",
    "        sub2[i] = s[l//2:].count(i)\n",
    "    \n",
    "    #checking if the value of the key in sub1 is equal to sub2\n",
    "    for k,v in sub1.items():\n",
    "        if sub2[k] != v:\n",
    "            return False\n",
    "    return True\n",
    "\n",
    "def Lapindromes(words):\n",
    "    # a dict to store isLapindrome or isNotLapindrome for given set of words\n",
    "    d = {}\n",
    "    for i in words:\n",
    "        if isLapindrome(i):\n",
    "            d[i] = 'isLapindrome'\n",
    "        else:\n",
    "            d[i] = 'isNotLaprindrome'\n",
    "    return d\n",
    "\n",
    "words = []\n",
    "words = myList(words)\n",
    "d = Lapindromes(words)\n",
    "print(d)"
   ]
  },
  {
   "cell_type": "markdown",
   "id": "ff54634e",
   "metadata": {},
   "source": [
    "### File with line numbers"
   ]
  },
  {
   "cell_type": "code",
   "execution_count": 14,
   "id": "7ea13272",
   "metadata": {},
   "outputs": [
    {
     "name": "stdout",
     "output_type": "stream",
     "text": [
      "Enter file name: file1.txt\n",
      "Enter new file name: file2.txt\n",
      "Contents of original file: \n",
      "I am Roshan Ali\n",
      "I am a student RVR & JC College of Engineering\n",
      "I am a CSE student\n",
      "Regd. no.: Y21CS160\n",
      "\n",
      "Contents of new file: \n",
      "1: I am Roshan Ali\n",
      "2: I am a student RVR & JC College of Engineering\n",
      "3: I am a CSE student\n",
      "4: Regd. no.: Y21CS160\n",
      "\n"
     ]
    }
   ],
   "source": [
    "n1 = input(\"Enter file name: \")\n",
    "n2 = input(\"Enter new file name: \")\n",
    "\n",
    "# first file to copy data from\n",
    "f1 = open(n1, 'r')\n",
    "# second file to write the data with line numbers\n",
    "f2 = open(n2, 'w')\n",
    "\n",
    "#reading the entire text of the file\n",
    "text = f1.read()\n",
    "\n",
    "#changing the cursor position back to the starting of the file\n",
    "f1.seek(0,0)\n",
    "\n",
    "# reading the lines of first file as a list\n",
    "lines = f1.readlines()\n",
    "\n",
    "# using i for line numbers\n",
    "i = 1\n",
    "\n",
    "for line in lines:\n",
    "    # printing in the format \"<line number>: <line>\"\n",
    "    f2.write(str(i) + ': ' + line)\n",
    "    #increasing the line number\n",
    "    i += 1\n",
    "\n",
    "f1.close()\n",
    "f2.close()\n",
    "\n",
    "#printing original contents of first file\n",
    "print(\"Contents of original file: \")\n",
    "print(text)\n",
    "    \n",
    "f2 = open(n2, 'r')\n",
    "#printing the contents of the new file\n",
    "print(\"Contents of new file: \")\n",
    "print(f2.read())"
   ]
  },
  {
   "cell_type": "markdown",
   "id": "deadad8a",
   "metadata": {},
   "source": [
    "### Spiral form of a matrix"
   ]
  },
  {
   "cell_type": "code",
   "execution_count": 16,
   "id": "c993a080",
   "metadata": {},
   "outputs": [
    {
     "name": "stdout",
     "output_type": "stream",
     "text": [
      "Enter number of rows: 3\n",
      "Enter number of columns: 3\n",
      "Enter elements of row 1: 1 2 3\n",
      "Enter elements of row 2: 4 5 6\n",
      "Enter elements of row 3: 7 8 9\n",
      "1 2 3 6 9 8 7 4 5 "
     ]
    }
   ],
   "source": [
    "def spiral(m, n, matrix):\n",
    "    k = l = 0\n",
    "    while k < m and l < n:\n",
    "        \n",
    "        #for moving to right\n",
    "        for i in range(l, n):\n",
    "            print(matrix[k][i], end = ' ')\n",
    "        k += 1\n",
    "        \n",
    "        #for moving down\n",
    "        for i in range(k, m):\n",
    "            print(matrix[i][n - 1], end = ' ')\n",
    "        n -= 1\n",
    "        \n",
    "        #for moving left\n",
    "        if k < m:\n",
    "            for i in range(n - 1, l - 1, -1):\n",
    "                print(matrix[m - 1][i], end = ' ')\n",
    "            m -= 1\n",
    "        \n",
    "        #for moving up\n",
    "        if l < n:\n",
    "            for i in range(m - 1, k - 1, -1):\n",
    "                print(matrix[i][l], end = ' ')\n",
    "            l += 1\n",
    "            \n",
    "m = int(input(\"Enter number of rows: \"))\n",
    "n = int(input(\"Enter number of columns: \"))\n",
    "matrix = []\n",
    "\n",
    "for i in range(m):\n",
    "    row = [int(x) for x in input(f\"Enter elements of row {i+1}: \").split()]\n",
    "    matrix.append(row)\n",
    "    \n",
    "spiral(m, n, matrix)"
   ]
  },
  {
   "cell_type": "markdown",
   "id": "6854856a",
   "metadata": {},
   "source": [
    "### Permutations of a string using recursion"
   ]
  },
  {
   "cell_type": "code",
   "execution_count": 18,
   "id": "551024d2",
   "metadata": {},
   "outputs": [
    {
     "name": "stdout",
     "output_type": "stream",
     "text": [
      "Enter the string : hash\n",
      "All possible strings are : \n",
      "hash hahs hsah hsha hhas hhsa ahsh ahhs ashh ashh ahhs ahsh shah shha sahh sahh shha shah hhas hhsa hahs hash hsha hsah "
     ]
    }
   ],
   "source": [
    "def permutation(s, answer):\n",
    "    if (len(s) == 0):\n",
    "        print(answer, end = \" \")\n",
    "        return\n",
    "    \n",
    "    for i in range(len(s)):\n",
    "        ch = s[i]\n",
    "        left_substr = s[0:i]\n",
    "        right_substr = s[i + 1:]\n",
    "        rest = left_substr + right_substr\n",
    "        permutation(rest, answer + ch)\n",
    "\n",
    "answer = \"\"\n",
    "\n",
    "s = input(\"Enter the string : \")\n",
    "\n",
    "print(\"All possible strings are : \")\n",
    "permutation(s, answer)"
   ]
  },
  {
   "cell_type": "markdown",
   "id": "9789f014",
   "metadata": {},
   "source": [
    "### Flames game"
   ]
  },
  {
   "cell_type": "code",
   "execution_count": 29,
   "id": "940c0575",
   "metadata": {},
   "outputs": [
    {
     "name": "stdout",
     "output_type": "stream",
     "text": [
      "Enter your name: Roshan Ali\n",
      "Enter your crush name: Computer\n",
      "Relationship status : Lovers\n"
     ]
    }
   ],
   "source": [
    "def flames(n1,n2):\n",
    "    l1 = list(n1)\n",
    "    l2 = list(n2)\n",
    "\n",
    "    for i in l1:\n",
    "        if i in l2:\n",
    "            l1.remove(i)\n",
    "            l2.remove(i)\n",
    "            break\n",
    "\n",
    "    n = len(l1+l2)\n",
    "\n",
    "    F = [\"Friends\", \"Lovers\", \"Affection\", \"Marriage\", \"Enemies\", \"Siblings\"]\n",
    "\n",
    "    while len(F) > 1 :\n",
    "        i = (n % len(F) - 1)\n",
    "        F.pop(i)\n",
    "    \n",
    "    print(\"Relationship status :\", F[0])\n",
    "\n",
    "n1 = input(\"Enter your name: \").replace(' ','').upper()\n",
    "n2 = input(\"Enter your crush name: \").replace(' ','').upper()\n",
    "\n",
    "if n1 == n2:\n",
    "    print(\"Flames on same names not possible\")\n",
    "    exit(0)\n",
    "\n",
    "flames(n1,n2)"
   ]
  },
  {
   "cell_type": "markdown",
   "id": "752f71e1",
   "metadata": {},
   "source": [
    "### Life Path Number"
   ]
  },
  {
   "cell_type": "code",
   "execution_count": 31,
   "id": "11c93060",
   "metadata": {},
   "outputs": [
    {
     "name": "stdout",
     "output_type": "stream",
     "text": [
      "Enter date of birth(dd-mm-yyyy): 11-11-1992\n",
      "Nature of person according to DOB:  Pious\n"
     ]
    }
   ],
   "source": [
    "def sum_of_digits(n):\n",
    "    sum = 0\n",
    "    for i in str(n):\n",
    "        sum += int(i)\n",
    "    if sum < 10:\n",
    "        return sum\n",
    "    else:\n",
    "        return sum_of_digits(sum)\n",
    "\n",
    "def LPN(d, m, y):\n",
    "    d = sum_of_digits(d)\n",
    "    m = sum_of_digits(m)\n",
    "    y = sum_of_digits(y)\n",
    "    if d+m+y < 10:\n",
    "        return d + m + y\n",
    "    else:\n",
    "        return sum_of_digits(d + m + y)\n",
    "\n",
    "d, m, y = [int(x) for x in input(\"Enter date of birth(dd-mm-yyyy): \").split('-')]\n",
    "nature = {1:'Independent', 2:'Introvert', 3:'Helpful', 4:'Practical', 5:'Extrovert', 6:'Responsible', 7:'Pious', 8:'Ambitious', 9:'Leader'}\n",
    "print(\"Nature of person according to DOB: \", nature[LPN(d, m, y)])"
   ]
  }
 ],
 "metadata": {
  "kernelspec": {
   "display_name": "Python 3 (ipykernel)",
   "language": "python",
   "name": "python3"
  },
  "language_info": {
   "codemirror_mode": {
    "name": "ipython",
    "version": 3
   },
   "file_extension": ".py",
   "mimetype": "text/x-python",
   "name": "python",
   "nbconvert_exporter": "python",
   "pygments_lexer": "ipython3",
   "version": "3.10.5"
  }
 },
 "nbformat": 4,
 "nbformat_minor": 5
}
