{
 "cells": [
  {
   "cell_type": "markdown",
   "id": "f587c0c3",
   "metadata": {},
   "source": [
    "### User defined Complex number class"
   ]
  },
  {
   "cell_type": "code",
   "execution_count": null,
   "id": "f2e5f5c8",
   "metadata": {},
   "outputs": [],
   "source": [
    "class Mycomplex:\n",
    "    \n",
    "    def __init__(self, r, i):\n",
    "        self.real = r\n",
    "        self.img = i\n",
    "        \n",
    "    def __str__(self):\n",
    "        if self.img < 0:\n",
    "            out = ''\n",
    "        else:\n",
    "            out = '+'\n",
    "        return str(self.real) + out + str(self.img) + 'j'\n",
    "    \n",
    "    def __add__(self, c):\n",
    "        r = self.real + c.real\n",
    "        i = self.img + c.img\n",
    "        return Mycomplex(r, i)\n",
    "    \n",
    "    def __sub__(self, c):\n",
    "        r = self.real - c.real\n",
    "        i = self.img - c.img\n",
    "        return Mycomplex(r, i)\n",
    "    \n",
    "    def __mul__(self, c):\n",
    "        r = (self.real * c.real) - (self.img * c.img)\n",
    "        i = (self.real * c.img) + (self.img * c.real)\n",
    "        return Mycomplex(r, i)\n",
    "    \n",
    "    def __truediv__(self, c):\n",
    "        r = (self.real * c.real) + (self.img * c.img)\n",
    "        i = (self.img * c.real) - (self.real * c.img)\n",
    "        return Mycomplex(r, i)"
   ]
  },
  {
   "cell_type": "code",
   "execution_count": null,
   "id": "294ef13a",
   "metadata": {},
   "outputs": [],
   "source": [
    "print(\"****Complex Calculator*****\")\n",
    "print(\"1.Addition \\n2.Subtraction \\n3.Multiplication \\n4.Division \\n5.Quit\")\n",
    "\n",
    "while True:\n",
    "    r, i = map(int, input(\"Enter first complex number: \").split())\n",
    "    c1 = Mycomplex(r, i)\n",
    "    r, i = map(int, input(\"Enter second complex number: \").split())\n",
    "    c2 = Mycomplex(r, i)\n",
    "    ch = int(input(\"Enter your choice: \"))\n",
    "\n",
    "    if ch == 1:\n",
    "        print(\"C1 + C2 =\", c1 + c2)\n",
    "    elif ch == 2:\n",
    "        print(\"C1 - C2 =\", c1 - c2)\n",
    "    elif ch == 3:\n",
    "        print(\"C1 * C2 =\", c1 * c2)\n",
    "    elif ch == 4:\n",
    "        print(\"C1 / C2 =\", c1 / c2)\n",
    "    elif ch == 5:\n",
    "        break\n",
    "    else:\n",
    "        print(\"Invalid input\")"
   ]
  },
  {
   "cell_type": "markdown",
   "id": "9956f6a3",
   "metadata": {},
   "source": [
    "___"
   ]
  },
  {
   "cell_type": "markdown",
   "id": "0d0c30b8",
   "metadata": {},
   "source": [
    "### User defined Fractional class"
   ]
  },
  {
   "cell_type": "code",
   "execution_count": 19,
   "id": "35f2979b",
   "metadata": {},
   "outputs": [],
   "source": [
    "class Myfractional:\n",
    "    \n",
    "    def Gcd(self, n1, n2):\n",
    "        if n2 == 0:\n",
    "            return n1\n",
    "        else:\n",
    "            return self.Gcd(n2, n1 % n2)\n",
    "    \n",
    "    def __init__(self, nu, dn):\n",
    "        g = self.Gcd(nu, dn)\n",
    "        \n",
    "        self.numerator = nu // g\n",
    "        self.denominator = dn // g\n",
    "    \n",
    "    def __str__(self):\n",
    "        return str(self.numerator) + '/' + str(self.denominator)\n",
    "    \n",
    "    def __add__(self, f):\n",
    "        n = (self.numerator * f.denominator) + (self.denominator * f.numerator)\n",
    "        d = (self.denominator * f.denominator)\n",
    "        return Myfractional(n, d)\n",
    "    \n",
    "    def __sub__(self, f):\n",
    "        n = (self.numerator * f.denominator) - (self.denominator * f.numerator)\n",
    "        d = (self.denominator * f.denominator)\n",
    "        return Myfractional(n, d)\n",
    "    \n",
    "    def __mul__(self, f):\n",
    "        n = self.numerator * f.numerator\n",
    "        d = self.denominator * f.denominator\n",
    "        return Myfractional(n, d)\n",
    "    \n",
    "    def __truediv__(self, f):\n",
    "        n = self.numerator * f.denominator\n",
    "        d = self.denominator * f.numerator\n",
    "        return Myfractional(n, d)"
   ]
  },
  {
   "cell_type": "code",
   "execution_count": null,
   "id": "48d7053c",
   "metadata": {},
   "outputs": [],
   "source": [
    "print(\"****Fractional Calculator****\")\n",
    "print(\"1.Addition \\n2.Subtraction \\n3.Multiplication \\n4.Division\")\n",
    "\n",
    "while True:\n",
    "    n, d = map(int, input(\"Enter frist fracitonal number: \").split('/'))\n",
    "    f1 = Myfractional(n, d)\n",
    "    n, d = map(int, input(\"Enter second fracitonal number: \").split('/'))\n",
    "    f2 = Myfractional(n, d)\n",
    "    \n",
    "    ch = int(input(\"Enter your choice: \"))\n",
    "    if ch == 1:\n",
    "        print(\"F1 + F2 = \", f1 + f2)\n",
    "    elif ch == 2:\n",
    "        print(\"F1 - F2 = \", f1 - f2)\n",
    "    elif ch == 3:\n",
    "        print(\"F1 * F2 = \", f1 * f2)\n",
    "    elif ch == 4:\n",
    "        print(\"F1 / F2 = \", f1 / f2)\n",
    "    elif ch == 5:\n",
    "        break\n",
    "    else:\n",
    "        print(\"Invalid Input!!\")"
   ]
  }
 ],
 "metadata": {
  "kernelspec": {
   "display_name": "Python 3 (ipykernel)",
   "language": "python",
   "name": "python3"
  },
  "language_info": {
   "codemirror_mode": {
    "name": "ipython",
    "version": 3
   },
   "file_extension": ".py",
   "mimetype": "text/x-python",
   "name": "python",
   "nbconvert_exporter": "python",
   "pygments_lexer": "ipython3",
   "version": "3.10.6"
  }
 },
 "nbformat": 4,
 "nbformat_minor": 5
}
