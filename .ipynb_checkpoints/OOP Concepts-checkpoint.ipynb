{
 "cells": [
  {
   "cell_type": "markdown",
   "id": "f587c0c3",
   "metadata": {},
   "source": [
    "### User defined Complex number class"
   ]
  },
  {
   "cell_type": "code",
   "execution_count": 2,
   "id": "f2e5f5c8",
   "metadata": {},
   "outputs": [],
   "source": [
    "class Mycomplex:\n",
    "    \n",
    "    def __init__(self, r, i):\n",
    "        self.real = r\n",
    "        self.img = i\n",
    "        \n",
    "    def __str__(self):\n",
    "        if self.img < 0:\n",
    "            out = ''\n",
    "        else:\n",
    "            out = '+'\n",
    "        return str(self.real) + out + str(self.img) + 'j'\n",
    "    \n",
    "    def __add__(self, c):\n",
    "        r = self.real + c.real\n",
    "        i = self.img + c.img\n",
    "        return Mycomplex(r, i)\n",
    "    \n",
    "    def __sub__(self, c):\n",
    "        r = self.real - c.real\n",
    "        i = self.img - c.img\n",
    "        return Mycomplex(r, i)\n",
    "    \n",
    "    def __mul__(self, c):\n",
    "        r = (self.real * c.real) - (self.img * c.img)\n",
    "        i = (self.real * c.img) + (self.img * c.real)\n",
    "        return Mycomplex(r, i)\n",
    "    \n",
    "    def __truediv__(self, c):\n",
    "        r = (self.real * c.real) + (self.img * c.img)\n",
    "        i = (self.img * c.real) - (self.real * c.img)\n",
    "        return Mycomplex(r, i)"
   ]
  },
  {
   "cell_type": "code",
   "execution_count": 9,
   "id": "294ef13a",
   "metadata": {},
   "outputs": [
    {
     "name": "stdout",
     "output_type": "stream",
     "text": [
      "****Complex Calculator*****\n",
      "1.Addition \n",
      "2.Subtraction \n",
      "3.Multiplication \n",
      "4.Division \n",
      "5.Quit\n",
      "Enter first complex number: 1 2\n",
      "Enter second complex number: 2 3\n",
      "Enter your choice: 1\n",
      "C1 + C2 = 3+5j\n",
      "Enter first complex number: 11 2\n",
      "Enter second complex number: 22 3\n",
      "Enter your choice: 4\n",
      "C1 / C2 = 248+11j\n",
      "Enter first complex number: 5 6\n",
      "Enter second complex number: 4 5\n",
      "Enter your choice: 5\n"
     ]
    }
   ],
   "source": [
    "print(\"****Complex Calculator*****\")\n",
    "print(\"1.Addition \\n2.Subtraction \\n3.Multiplication \\n4.Division \\n5.Quit\")\n",
    "\n",
    "while True:\n",
    "    r, i = map(int, input(\"Enter first complex number: \").split())\n",
    "    c1 = Mycomplex(r, i)\n",
    "    r, i = map(int, input(\"Enter second complex number: \").split())\n",
    "    c2 = Mycomplex(r, i)\n",
    "    ch = int(input(\"Enter your choice: \"))\n",
    "\n",
    "    if ch == 1:\n",
    "        print(\"C1 + C2 =\", c1 + c2)\n",
    "    elif ch == 2:\n",
    "        print(\"C1 - C2 =\", c1 - c2)\n",
    "    elif ch == 3:\n",
    "        print(\"C1 * C2 =\", c1 * c2)\n",
    "    elif ch == 4:\n",
    "        print(\"C1 / C2 =\", c1 / c2)\n",
    "    elif ch == 5:\n",
    "        break\n",
    "    else:\n",
    "        print(\"Invalid input\")"
   ]
  },
  {
   "cell_type": "markdown",
   "id": "9956f6a3",
   "metadata": {},
   "source": [
    "___"
   ]
  },
  {
   "cell_type": "markdown",
   "id": "0d0c30b8",
   "metadata": {},
   "source": [
    "### User defined Fractional class"
   ]
  },
  {
   "cell_type": "code",
   "execution_count": 10,
   "id": "35f2979b",
   "metadata": {},
   "outputs": [],
   "source": [
    "class Myfractional:\n",
    "    \n",
    "    def Gcd(self, n1, n2):\n",
    "        x = min(n1, n2)\n",
    "        y = max(n1, n2)\n",
    "        \n",
    "        if x == 0:\n",
    "            return y\n",
    "        else:\n",
    "            return self.Gcd(y%x, x)\n",
    "    \n",
    "    def __init__(self, nu, dn):\n",
    "        g = self.Gcd(nu, dn)\n",
    "        \n",
    "        self.numerator = nu // g\n",
    "        self.denominator = dn // g\n",
    "    \n",
    "    def __str__(self):\n",
    "        return str(self.numerator) + '/' + str(self.denominator)\n",
    "    \n",
    "    def __add__(self, f):\n",
    "        n = (self.numerator * f.denominator) + (self.denominator * f.numerator)\n",
    "        d = (self.denominator * f.denominator)\n",
    "        return Myfractional(n, d)\n",
    "    \n",
    "    def __sub__(self, f):\n",
    "        n = (self.numerator * f.denominator) - (self.denominator * f.numerator)\n",
    "        d = (self.denominator * f.denominator)\n",
    "        return Myfractional(n, d)\n",
    "    \n",
    "    def __mul__(self, f):\n",
    "        n = self.numerator * f.numerator\n",
    "        d = self.denominator * f.denominator\n",
    "        return Myfractional(n, d)\n",
    "    \n",
    "    def __truediv__(self, f):\n",
    "        n = self.numerator * f.denominator\n",
    "        d = self.denominator * f.numerator\n",
    "        return Myfractional(n, d)"
   ]
  },
  {
   "cell_type": "code",
   "execution_count": 11,
   "id": "48d7053c",
   "metadata": {},
   "outputs": [
    {
     "name": "stdout",
     "output_type": "stream",
     "text": [
      "****Fractional Calculator****\n",
      "1.Addition \n",
      "2.Subtraction \n",
      "3.Multiplication \n",
      "4.Division\n",
      "Enter frist fracitonal number: 1/2\n",
      "Enter second fracitonal number: 5/7\n",
      "Enter your choice: 1\n",
      "F1 + F2 =  17/14\n",
      "Enter frist fracitonal number: 1/2\n",
      "Enter second fracitonal number: 1/2\n",
      "Enter your choice: 1\n",
      "F1 + F2 =  1/1\n",
      "Enter frist fracitonal number: 8/9\n",
      "Enter second fracitonal number: 9/9\n",
      "Enter your choice: 5\n"
     ]
    }
   ],
   "source": [
    "print(\"****Fractional Calculator****\")\n",
    "print(\"1.Addition \\n2.Subtraction \\n3.Multiplication \\n4.Division\")\n",
    "\n",
    "while True:\n",
    "    n, d = map(int, input(\"Enter frist fracitonal number: \").split('/'))\n",
    "    f1 = Myfractional(n, d)\n",
    "    n, d = map(int, input(\"Enter second fracitonal number: \").split('/'))\n",
    "    f2 = Myfractional(n, d)\n",
    "    \n",
    "    ch = int(input(\"Enter your choice: \"))\n",
    "    if ch == 1:\n",
    "        print(\"F1 + F2 = \", f1 + f2)\n",
    "    elif ch == 2:\n",
    "        print(\"F1 - F2 = \", f1 - f2)\n",
    "    elif ch == 3:\n",
    "        print(\"F1 * F2 = \", f1 * f2)\n",
    "    elif ch == 4:\n",
    "        print(\"F1 / F2 = \", f1 / f2)\n",
    "    elif ch == 5:\n",
    "        break\n",
    "    else:\n",
    "        print(\"Invalid Input!!\")"
   ]
  }
 ],
 "metadata": {
  "kernelspec": {
   "display_name": "Python 3 (ipykernel)",
   "language": "python",
   "name": "python3"
  },
  "language_info": {
   "codemirror_mode": {
    "name": "ipython",
    "version": 3
   },
   "file_extension": ".py",
   "mimetype": "text/x-python",
   "name": "python",
   "nbconvert_exporter": "python",
   "pygments_lexer": "ipython3",
   "version": "3.10.5"
  }
 },
 "nbformat": 4,
 "nbformat_minor": 5
}
