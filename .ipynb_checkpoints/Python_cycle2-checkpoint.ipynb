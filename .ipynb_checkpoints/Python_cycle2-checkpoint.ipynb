{
 "cells": [
  {
   "cell_type": "markdown",
   "metadata": {},
   "source": [
    "Lab Cycle 2:"
   ]
  },
  {
   "cell_type": "markdown",
   "metadata": {},
   "source": [
    "Question 1:Ticket fare"
   ]
  },
  {
   "cell_type": "code",
   "execution_count": 2,
   "metadata": {},
   "outputs": [
    {
     "name": "stdout",
     "output_type": "stream",
     "text": [
      "Enter number of adults: 5\n",
      "Enter number of children: 2\n",
      "Total cost of flight:  204910.35\n"
     ]
    }
   ],
   "source": [
    "n1 = int(input(\"Enter number of adults: \"))\n",
    "n2 = int(input(\"Enter number of children: \"))\n",
    "cost = n1 * 37550.0 + n2 * (37550/3)\n",
    "cost += (7/100) * cost\n",
    "cost -= (10/100) * cost\n",
    "print(\"Total cost of flight: \", cost)"
   ]
  },
  {
   "cell_type": "markdown",
   "metadata": {},
   "source": [
    "Question 2: Multiplication of three positive integers"
   ]
  },
  {
   "cell_type": "code",
   "execution_count": 3,
   "metadata": {},
   "outputs": [
    {
     "name": "stdout",
     "output_type": "stream",
     "text": [
      "Enter three numbers: 5 7 8\n",
      "Multiplication:  8\n"
     ]
    }
   ],
   "source": [
    "a = [int(x) for x in input(\"Enter three numbers: \").strip().split()]\n",
    "mul = 1\n",
    "if 7 in a:\n",
    "  for i in range(a.index(7)+1, len(a)):\n",
    "    mul *= a[i]\n",
    "  if a.index(7) == 2: mul = -1\n",
    "else:\n",
    "  mul = a[0] * a[1] * a[2]\n",
    "print(\"Multiplication: \", mul)"
   ]
  },
  {
   "cell_type": "markdown",
   "metadata": {},
   "source": [
    "Question 3: Number of coins"
   ]
  },
  {
   "cell_type": "code",
   "execution_count": null,
   "metadata": {},
   "outputs": [],
   "source": [
    "a5 = int(input(\"Enter number of 5 rupee coins available: \"))\n",
    "a1 = int(input(\"Enter number of 1 rupee coins available: \"))\n",
    "amount = int(input(\"Enter amount to be paid: \"))\n",
    "n5 = amount // 5\n",
    "n1 = amount % 5\n",
    "if a5 - n5 >= 0  and a1 - n1 >= 0:\n",
    "    print(\"Number of 5 rupee coins: \", n5)\n",
    "    print(\"Number of 1 rupee coins: \", n1)\n",
    "else:\n",
    "    print(\"-1\")"
   ]
  },
  {
   "cell_type": "markdown",
   "metadata": {},
   "source": [
    "Question 4: Number of heads and legs"
   ]
  },
  {
   "cell_type": "code",
   "execution_count": null,
   "metadata": {},
   "outputs": [],
   "source": [
    "heads = int(input(\"Enter number of heads: \"))\n",
    "legs = int(input(\"Enter number of legs: \"))\n",
    "rabbits = legs//2 - heads\n",
    "chickens = heads - rabbits\n",
    "print(\"Number of rabbits: \", rabbits)\n",
    "print(\"Number of chickens: \", chickens)"
   ]
  },
  {
   "cell_type": "markdown",
   "metadata": {},
   "source": [
    "Question 5: Maximum of range"
   ]
  },
  {
   "cell_type": "code",
   "execution_count": null,
   "metadata": {},
   "outputs": [],
   "source": [
    "def sum_of_digits(num):\n",
    "  sum = 0\n",
    "  for i in str(num):\n",
    "    sum += int(i)\n",
    "  return sum\n",
    "\n",
    "num1 = int(input(\"Enter lower limit: \"))\n",
    "num2 = int(input(\"Enter upper limit: \"))\n",
    "max = -1\n",
    "\n",
    "for i in range(num1, num2):\n",
    "  if sum_of_digits(i)%3==0 and i % 5 == 0 and len(str(i))==2 and i > max:\n",
    "    max = i\n",
    "print(\"Maximum number in the given range: \", max)"
   ]
  },
  {
   "cell_type": "markdown",
   "metadata": {},
   "source": [
    "Question 6: Adjacent occurences"
   ]
  },
  {
   "cell_type": "code",
   "execution_count": null,
   "metadata": {},
   "outputs": [],
   "source": [
    "a = [int(x) for x in input(\"Enter the elements: \").strip().split()]\n",
    "\n",
    "count = 0\n",
    "for i in range(len(a) - 1):\n",
    "  if a[i] == a[i+1]:\n",
    "    count += 1\n",
    "\n",
    "print(\"Number of adjacent occurences: \", count)"
   ]
  },
  {
   "cell_type": "markdown",
   "metadata": {},
   "source": [
    "Question 8: 15 Leap years"
   ]
  },
  {
   "cell_type": "code",
   "execution_count": null,
   "metadata": {},
   "outputs": [],
   "source": [
    "def isLeapyear(yr):\n",
    "  if (yr % 4 == 0 and yr % 100 != 0) or (yr % 400 == 0):\n",
    "    return True\n",
    "  else: return False\n",
    "\n",
    "y = int(input(\"Enter the starting year: \"))\n",
    "n = y\n",
    "count = 0\n",
    "leaps = []\n",
    "while count != 15:\n",
    "  if isLeapyear(y):\n",
    "    leaps.append(y)\n",
    "    count += 1\n",
    "  y += 1\n",
    "\n",
    "print(f\"The list of leap years starting from {n} are: \", leaps)"
   ]
  },
  {
   "cell_type": "markdown",
   "metadata": {},
   "source": [
    "Question 9: Creating largest number"
   ]
  },
  {
   "cell_type": "code",
   "execution_count": null,
   "metadata": {},
   "outputs": [],
   "source": [
    "nums = [int(x) for x in input(\"Enter the numbers: \").split()]\n",
    "s = ''\n",
    "while nums != []:\n",
    "  m = max(nums)\n",
    "  s += str(m)\n",
    "  del nums[nums.index(m)]\n",
    "print(s)"
   ]
  },
  {
   "cell_type": "markdown",
   "metadata": {},
   "source": [
    "Question 10: Run length coding(not correct)"
   ]
  },
  {
   "cell_type": "code",
   "execution_count": 8,
   "metadata": {},
   "outputs": [
    {
     "name": "stdout",
     "output_type": "stream",
     "text": [
      "AABCCA\n",
      "3A1B2C\n"
     ]
    }
   ],
   "source": [
    "s = input()\n",
    "c = 0\n",
    "f = ''\n",
    "for i in s:\n",
    "    if i not in f:\n",
    "        f += i\n",
    "code = ''\n",
    "for i in f:\n",
    "    code += str(s.count(i))+i\n",
    "    \n",
    "print(code)"
   ]
  },
  {
   "cell_type": "markdown",
   "metadata": {},
   "source": [
    "Question 11: Bilingual Christmas Greetings"
   ]
  },
  {
   "cell_type": "code",
   "execution_count": 11,
   "metadata": {},
   "outputs": [
    {
     "name": "stdout",
     "output_type": "stream",
     "text": [
      "Give your wishes in English: merry christmas and happy new year\n",
      "god jul och gott nytt ar\n"
     ]
    }
   ],
   "source": [
    "def translate(d, wishes):\n",
    "    words = wishes.split()\n",
    "    swedish = []\n",
    "    for i in words:\n",
    "        swedish.append(d.get(i))\n",
    "    return \" \".join(swedish)\n",
    "\n",
    "d = {\"merry\":\"god\", \"christmas\":\"jul\", \"and\":\"och\", \"happy\":\"gott\", \"new\":\"nytt\", \"year\":\"ar\"}\n",
    "wish = input(\"Give your wishes in English: \")\n",
    "print(translate(d, wish))"
   ]
  },
  {
   "cell_type": "markdown",
   "metadata": {},
   "source": [
    "Question 13: Similar elements in two string"
   ]
  },
  {
   "cell_type": "code",
   "execution_count": null,
   "metadata": {},
   "outputs": [],
   "source": [
    "s1 = input(\"Enter string 1: \")\n",
    "s2 = input(\"Enter string 2: \")\n",
    "similars = []\n",
    "for i in s1:\n",
    "    if i in s2 and i != ' ':\n",
    "        similars.append(i)\n",
    "\n",
    "print(\"\".join(similars))"
   ]
  },
  {
   "cell_type": "markdown",
   "metadata": {},
   "source": [
    "Question 14: Encrypting sentence"
   ]
  },
  {
   "cell_type": "code",
   "execution_count": null,
   "metadata": {},
   "outputs": [],
   "source": [
    "def rearrange(string):\n",
    "    vowels = \"\"\n",
    "    consonants = \"\"\n",
    "    for i in string:\n",
    "        if i in 'aeiouAEIOU':\n",
    "            vowels += i\n",
    "        else:\n",
    "            consonants += i\n",
    "    return consonants+vowels\n",
    "\n",
    "def encrypt_message(mssg):\n",
    "    words = mssg.split()\n",
    "    encrypted = []\n",
    "    for i in range(len(words)):\n",
    "        if i % 2 == 0:\n",
    "            encrypted.append(words[i][: : -1])\n",
    "        else:\n",
    "            encrypted.append(rearrange(words[i]))\n",
    "    return \" \".join(encrypted)\n",
    "\n",
    "m = input(\"Enter your message: \")\n",
    "print(encrypt_message(m))"
   ]
  },
  {
   "cell_type": "markdown",
   "metadata": {},
   "source": [
    "Question 15: Hospital specialists"
   ]
  },
  {
   "cell_type": "code",
   "execution_count": 4,
   "metadata": {},
   "outputs": [
    {
     "name": "stdout",
     "output_type": "stream",
     "text": [
      "Enter id of patients along with specialities visited: 101,O,102,E,302,P,305,P,401,E,656,O,987,E\n",
      "Maximum visited speciality in the hospital:  ENT\n"
     ]
    }
   ],
   "source": [
    "def get_key(d, val):\n",
    "    for key, value in d.items():\n",
    "        if val == value:\n",
    "            return key\n",
    "    return 'key doesnot exist'\n",
    "\n",
    "specialities = {\"P\":\"Pediatrics\",\"O\":\"Orthopedics\", \"E\":\"ENT\"}\n",
    "patients = {\"P\":0, \"O\":0, \"E\":0}\n",
    "\n",
    "l = input(\"Enter id of patients along with specialities visited: \").split(',')\n",
    "\n",
    "for i in range(1,len(l), +2):\n",
    "    patients[l[i]] += 1\n",
    "\n",
    "m = max(patients.values())\n",
    "print(\"Maximum visited speciality in the hospital: \", specialities[get_key(patients, m)])"
   ]
  },
  {
   "cell_type": "markdown",
   "metadata": {},
   "source": [
    "Question 16: SMS encoding"
   ]
  },
  {
   "cell_type": "code",
   "execution_count": 10,
   "metadata": {},
   "outputs": [
    {
     "name": "stdout",
     "output_type": "stream",
     "text": [
      "Enter the message: MSD says I love cricket and tennis too\n",
      "MSD sys I lv crckt nd tnns t \n"
     ]
    }
   ],
   "source": [
    "def has_allVowels(word):\n",
    "    for i in word:\n",
    "        if i not in 'aeiouAEIOU':\n",
    "            return False\n",
    "    return True\n",
    "\n",
    "msg = input(\"Enter the message: \").split()\n",
    "sms = ''\n",
    "for i in msg:\n",
    "    if has_allVowels(i):\n",
    "        sms += i +' '\n",
    "        continue\n",
    "    for j in i:\n",
    "        if j not in 'aeiouAEIOU':\n",
    "            sms += j\n",
    "    sms += ' '\n",
    "print(sms)\n",
    "        "
   ]
  },
  {
   "cell_type": "markdown",
   "metadata": {},
   "source": [
    "Question 17: Largest frequency"
   ]
  },
  {
   "cell_type": "code",
   "execution_count": 12,
   "metadata": {},
   "outputs": [
    {
     "name": "stdout",
     "output_type": "stream",
     "text": [
      "Enter the text: \"Work like you do not need money love like you have never been hurt and dance like no one is watching\n",
      "{'\"Work': 1, 'like': 3, 'you': 2, 'do': 1, 'not': 1, 'need': 1, 'money': 1, 'love': 1, 'have': 1, 'never': 1, 'been': 1, 'hurt': 1, 'and': 1, 'dance': 1, 'no': 1, 'one': 1, 'is': 1, 'watching': 1}\n"
     ]
    }
   ],
   "source": [
    "def largest(d):\n",
    "    \n",
    "\n",
    "\n",
    "\n",
    "text = input(\"Enter the text: \").split()\n",
    "words = []\n",
    "\n",
    "for i in text:\n",
    "    if i not in words:\n",
    "        words.append(i)\n",
    "\n",
    "d = {}\n",
    "for i in words:\n",
    "    d.update({i : text.count(i)})\n",
    "\n"
   ]
  }
 ],
 "metadata": {
  "kernelspec": {
   "display_name": "Python 3 (ipykernel)",
   "language": "python",
   "name": "python3"
  },
  "language_info": {
   "codemirror_mode": {
    "name": "ipython",
    "version": 3
   },
   "file_extension": ".py",
   "mimetype": "text/x-python",
   "name": "python",
   "nbconvert_exporter": "python",
   "pygments_lexer": "ipython3",
   "version": "3.10.4"
  }
 },
 "nbformat": 4,
 "nbformat_minor": 2
}
