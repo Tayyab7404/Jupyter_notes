{
 "cells": [
  {
   "cell_type": "markdown",
   "metadata": {},
   "source": [
    "Lab Cycle 2:"
   ]
  },
  {
   "cell_type": "markdown",
   "metadata": {},
   "source": [
    "### Question 1:Ticket fare"
   ]
  },
  {
   "cell_type": "markdown",
   "metadata": {},
   "source": [
    "- The flight ticket rates for a round-trip (Mumbai->Dubai) were as follows:\n",
    "    Rate per Adult: Rs. 37550.0\n",
    "    Rate per Child: 1/3rd of the rate per adult\n",
    "    Service Tax: 7% of the ticket amount (including all passengers)\n",
    "    As it was a holiday season, the airline also offered 10% discount on the final\n",
    "    ticket cost (after inclusion of the service tax).\n",
    "    Find and display the total ticket cost for a group which had adults and\n",
    "    children.\n"
   ]
  },
  {
   "cell_type": "code",
   "execution_count": 2,
   "metadata": {},
   "outputs": [
    {
     "name": "stdout",
     "output_type": "stream",
     "text": [
      "Enter number of adults: 5\n",
      "Enter number of children: 2\n",
      "Total cost of flight:  204910.35\n"
     ]
    }
   ],
   "source": [
    "n1 = int(input(\"Enter number of adults: \"))\n",
    "n2 = int(input(\"Enter number of children: \"))\n",
    "cost = n1 * 37550.0 + n2 * (37550/3)\n",
    "cost += (7/100) * cost\n",
    "cost -= (10/100) * cost\n",
    "print(\"Total cost of flight: \", cost)"
   ]
  },
  {
   "cell_type": "markdown",
   "metadata": {},
   "source": [
    "### Question 2: Multiplication of three positive integers"
   ]
  },
  {
   "cell_type": "markdown",
   "metadata": {},
   "source": [
    "- Write a python program to find and display the product of three positive integer values based on the rule mentioned below:\n",
    "    - It should display the product of the three values except when one of theinteger value is 7. In that case, 7 should not be included in the product and the values to its left also should not be included.\n",
    "    - If there is only one value to be considered, display that value itself. If no values can be included in the product, display -1.\n",
    "    \n",
    "    Note: Assume that if 7 is one of the positive integer values, then it will occur\n",
    "    only once. Refer the sample I/O given below."
   ]
  },
  {
   "cell_type": "code",
   "execution_count": 3,
   "metadata": {},
   "outputs": [
    {
     "name": "stdout",
     "output_type": "stream",
     "text": [
      "Enter three numbers: 5 7 8\n",
      "Multiplication:  8\n"
     ]
    }
   ],
   "source": [
    "a = [int(x) for x in input(\"Enter three numbers: \").strip().split()]\n",
    "mul = 1\n",
    "if 7 in a:\n",
    "  for i in range(a.index(7)+1, len(a)):\n",
    "    mul *= a[i]\n",
    "  if a.index(7) == 2: mul = -1\n",
    "else:\n",
    "  mul = a[0] * a[1] * a[2]\n",
    "print(\"Multiplication: \", mul)"
   ]
  },
  {
   "cell_type": "markdown",
   "metadata": {},
   "source": [
    "### Question 3: Number of coins"
   ]
  },
  {
   "cell_type": "markdown",
   "metadata": {},
   "source": [
    "- .You have x no. of 5 rupee coins and y no. of 1 rupee coins. You want to purchase an item for amount z. The shopkeeper wants you to provide exact change. You want to pay using minimum number of coins. How many 5 rupee coins and 1 rupee coins will you use? If exact change is not possible then display -1.\n"
   ]
  },
  {
   "cell_type": "code",
   "execution_count": 2,
   "metadata": {},
   "outputs": [
    {
     "name": "stdout",
     "output_type": "stream",
     "text": [
      "Enter number of 5 rupee coins available: 4\n",
      "Enter number of 1 rupee coins available: 5\n",
      "Enter amount to be paid: 25\n",
      "Number of 5 rupee coins:  4\n",
      "Number of 1 rupee coins:  5\n"
     ]
    }
   ],
   "source": [
    "a5 = int(input(\"Enter number of 5 rupee coins available: \"))\n",
    "a1 = int(input(\"Enter number of 1 rupee coins available: \"))\n",
    "amount = int(input(\"Enter amount to be paid: \"))\n",
    "n5 = amount // 5\n",
    "n1 = amount % 5\n",
    "\n",
    "if a5 >= n5 and a1 >= n1:\n",
    "    print(\"Number of 5 rupee coins: \", n5)\n",
    "    print(\"Number of 1 rupee coins: \", n1)\n",
    "elif a5*5 + a1 == amount:\n",
    "    print(\"Number of 5 rupee coins: \", a5)\n",
    "    print(\"Number of 1 rupee coins: \", a1)\n",
    "else:\n",
    "    print(\"-1\")"
   ]
  },
  {
   "cell_type": "markdown",
   "metadata": {},
   "source": [
    "### Question 4: Number of heads and legs"
   ]
  },
  {
   "cell_type": "markdown",
   "metadata": {},
   "source": [
    "- Write a python program to solve a classic ancient Chinese puzzle.\n",
    "    We count 35 heads and 94 legs among the chickens and rabbits in a farm.\n",
    "    How many rabbits and how many chickens do we have?"
   ]
  },
  {
   "cell_type": "code",
   "execution_count": 8,
   "metadata": {},
   "outputs": [
    {
     "name": "stdout",
     "output_type": "stream",
     "text": [
      "Enter number of heads: 150\n",
      "Enter number of legs: 400\n",
      "Number of rabbits: 50\n",
      "Number of chickens: 100\n"
     ]
    }
   ],
   "source": [
    "heads = int(input(\"Enter number of heads: \"))\n",
    "legs = int(input(\"Enter number of legs: \"))\n",
    "\n",
    "if legs < heads or legs == 0 or heads == 0 or legs % 2 != 0:\n",
    "    print(\"No solution\")\n",
    "else:\n",
    "    rabbits = (legs - (2 * heads)) // 2\n",
    "    chickens = heads - rabbits\n",
    "    print(\"Number of rabbits:\", rabbits)\n",
    "    print(\"Number of chickens:\",chickens)"
   ]
  },
  {
   "cell_type": "markdown",
   "metadata": {},
   "source": [
    "### Question 5: Maximum of range"
   ]
  },
  {
   "cell_type": "markdown",
   "metadata": {},
   "source": [
    "- Write a python program which finds the maximum number from num1 to num2 (num2 inclusive) based on the following rules.\n",
    "    1. Always num1 should be less than num2\n",
    "    2. Consider each number from num1 to num2 (num2 inclusive).\n",
    "        Populate the number into a list, if the below conditions are satisfied\n",
    "            a. Sum of the digits of the number is a multiple of 3\n",
    "            b. Number has only two digits\n",
    "            c. Number is a multiple of 5\n",
    "    3. Display the maximum element from the list\n",
    "    In case of any invalid data or if the list is empty, display -1."
   ]
  },
  {
   "cell_type": "code",
   "execution_count": 2,
   "metadata": {},
   "outputs": [
    {
     "name": "stdout",
     "output_type": "stream",
     "text": [
      "Enter lower limit: 10\n",
      "Enter upper limit: 69\n",
      "Maximum number in the given range:  60\n"
     ]
    }
   ],
   "source": [
    "num1 = int(input(\"Enter lower limit: \"))\n",
    "num2 = int(input(\"Enter upper limit: \"))\n",
    "\n",
    "numbers = []\n",
    "for i in range(num1, num2):\n",
    "  if (i//10 + i % 10)%3 == 0 and i % 5 == 0 and i < 100 and i > 9:\n",
    "    numbers.append(i)\n",
    "\n",
    "if len(numbers) == 0:\n",
    "    print(\"-1\")\n",
    "else:\n",
    "    print(\"Maximum number in the given range: \", max(numbers))"
   ]
  },
  {
   "cell_type": "markdown",
   "metadata": {},
   "source": [
    "### Question 6: Adjacent occurences"
   ]
  },
  {
   "cell_type": "markdown",
   "metadata": {},
   "source": [
    "- Given a list of integer values. Write a python program to check whether it contains same number in adjacent position. Display the count of such adjacent occurrences"
   ]
  },
  {
   "cell_type": "code",
   "execution_count": 4,
   "metadata": {},
   "outputs": [
    {
     "name": "stdout",
     "output_type": "stream",
     "text": [
      "Enter list of integers: 1,1,5,100,-20,-20,6,0,0\n",
      "Number of adjacent occurences:  3\n"
     ]
    }
   ],
   "source": [
    "a = list(map(int, input(\"Enter list of integers: \").split(',')))\n",
    "\n",
    "count = 0\n",
    "for i in range(len(a) - 1):\n",
    "  if a[i] == a[i+1]:\n",
    "    count += 1\n",
    "\n",
    "print(\"Number of adjacent occurences: \", count)"
   ]
  },
  {
   "cell_type": "markdown",
   "metadata": {},
   "source": [
    "### Question 7: _at and %at%"
   ]
  },
  {
   "cell_type": "markdown",
   "metadata": {},
   "source": [
    "- Write a python program which displays the count of the names that matches a given pattern from a list of names provided. Consider the pattern characters to be:\n",
    "    1. \"_ at\" where \"_\" can be one occurrence of any character\n",
    "    2. \"%at%\" where \"%\" can have zero or any number of occurrences of a character"
   ]
  },
  {
   "cell_type": "code",
   "execution_count": 5,
   "metadata": {},
   "outputs": [
    {
     "name": "stdout",
     "output_type": "stream",
     "text": [
      "Enter the words: Hat, Cat, Rabbit, Matter\n",
      "_at ->  2  %at% ->  3\n"
     ]
    }
   ],
   "source": [
    "words = input(\"Enter the words: \").split(', ')\n",
    "n1 = n2 = 0\n",
    "for i in words:\n",
    "    if 'at' in i:\n",
    "        n2 += 1\n",
    "        if i.endswith('at') and len(i) == 3:\n",
    "            n1 += 1\n",
    "print(\"_at -> \", n1, \" %at% -> \", n2)"
   ]
  },
  {
   "cell_type": "markdown",
   "metadata": {},
   "source": [
    "### Question 8: 15 Leap years"
   ]
  },
  {
   "cell_type": "markdown",
   "metadata": {},
   "source": [
    "- Write a Python program to generate the next 15 leap years starting from a given year. Populate the leap years into a list and display the list."
   ]
  },
  {
   "cell_type": "code",
   "execution_count": 7,
   "metadata": {},
   "outputs": [
    {
     "name": "stdout",
     "output_type": "stream",
     "text": [
      "Enter the starting year: 1987\n",
      "The list of 15 leap years starting from 1987 are:  [1988, 1992, 1996, 2000, 2004, 2008, 2012, 2016, 2020, 2024, 2028, 2032, 2036, 2040, 2044]\n"
     ]
    }
   ],
   "source": [
    "def isLeapyear(yr):\n",
    "  if (yr % 4 == 0 and yr % 100 != 0) or (yr % 400 == 0):\n",
    "    return True\n",
    "  else: return False\n",
    "\n",
    "y = int(input(\"Enter the starting year: \"))\n",
    "n = y\n",
    "leaps = []\n",
    "while len(leaps) != 15:\n",
    "  if isLeapyear(y):\n",
    "    leaps.append(y)\n",
    "  y += 1\n",
    "\n",
    "print(f\"The list of 15 leap years starting from {n} are: \", leaps)"
   ]
  },
  {
   "cell_type": "markdown",
   "metadata": {},
   "source": [
    "### Question 9: Creating largest number"
   ]
  },
  {
   "cell_type": "markdown",
   "metadata": {},
   "source": [
    "- Write a python function, create_largest_number(), which accepts a list of numbers and returns the largest number possible by concatenating the list of numbers.\n",
    "         Note: Assume that all the numbers are two digit numbers."
   ]
  },
  {
   "cell_type": "code",
   "execution_count": 11,
   "metadata": {},
   "outputs": [
    {
     "name": "stdout",
     "output_type": "stream",
     "text": [
      "Enter numbers: 23 34 55\n"
     ]
    },
    {
     "data": {
      "text/plain": [
       "'553423'"
      ]
     },
     "execution_count": 11,
     "metadata": {},
     "output_type": "execute_result"
    }
   ],
   "source": [
    "def create_largest_number(nums):\n",
    "    s = ''\n",
    "    while nums != []:\n",
    "        m = max(nums)\n",
    "        s += str(m)\n",
    "        nums.remove(m)\n",
    "    return int(s)\n",
    "\n",
    "nums = list(map(int, input(\"Enter numbers: \").split()))\n",
    "create_largest_number(nums)"
   ]
  },
  {
   "cell_type": "markdown",
   "metadata": {},
   "source": [
    "\n",
    "### Question 10: Run length coding"
   ]
  },
  {
   "cell_type": "markdown",
   "metadata": {},
   "source": [
    "- Given a string containing uppercase characters (A-Z), compress the string using Run Length encoding. Repetition of character has to be replaced by storing the length of that run. Write a python function which performs the run length encoding for a given String and returns the run length encoded String."
   ]
  },
  {
   "cell_type": "code",
   "execution_count": 30,
   "metadata": {},
   "outputs": [
    {
     "name": "stdout",
     "output_type": "stream",
     "text": [
      "AABCCA\n",
      "2A1B2C1A\n"
     ]
    }
   ],
   "source": [
    "def printRLE(st):\n",
    "    code =''\n",
    "    n = len(st)\n",
    "    i = 0\n",
    "    while i < n:\n",
    "        count = 1\n",
    "        while (i+1 < n and st[i] == st[i + 1]):\n",
    "            count += 1\n",
    "            i += 1\n",
    "        i += 1\n",
    "        code += str(count) + st[i - 1]\n",
    "    return code\n",
    "\n",
    "s = input()\n",
    "print(printRLE(s))"
   ]
  },
  {
   "cell_type": "markdown",
   "metadata": {},
   "source": [
    "### Question 11: Bilingual Christmas Greetings"
   ]
  },
  {
   "cell_type": "markdown",
   "metadata": {},
   "source": [
    "- Represent a small bilingual (English-Swedish) glossary given below as a Python dictionary \n",
    "    {\"merry\":\"god\", \"christmas\":\"jul\", \"and\":\"och\", \"happy\":\"gott\", \"new\":\"nytt\",\"year\":\"ar\"}\n",
    "    and use it to translate your Christmas wishes from English into Swedish.\n",
    "    That is, write a python function translate() that accepts the bilingual dictionary and a list of English words (your Christmas wish) and returns a list of equivalent Swedish words.\n"
   ]
  },
  {
   "cell_type": "code",
   "execution_count": 11,
   "metadata": {},
   "outputs": [
    {
     "name": "stdout",
     "output_type": "stream",
     "text": [
      "Give your wishes in English: merry christmas and happy new year\n",
      "god jul och gott nytt ar\n"
     ]
    }
   ],
   "source": [
    "def translate(d, wishes):\n",
    "    words = wishes.split()\n",
    "    swedish = []\n",
    "    for i in words:\n",
    "        swedish.append(d.get(i))\n",
    "    return \" \".join(swedish)\n",
    "\n",
    "d = {\"merry\":\"god\", \"christmas\":\"jul\", \"and\":\"och\", \"happy\":\"gott\", \"new\":\"nytt\", \"year\":\"ar\"}\n",
    "wish = input(\"Give your wishes in English: \")\n",
    "print(translate(d, wish))"
   ]
  },
  {
   "cell_type": "markdown",
   "metadata": {},
   "source": [
    "### Question 12: Number of flavours of coffee"
   ]
  },
  {
   "cell_type": "markdown",
   "metadata": {},
   "source": [
    "- We have ‘N’ flavors of toppings that can be added to a coffee. For example chocolate, hazelnut, vanilla, Irish and so on.Write a function that takes the number of available flavors as input and returns the total number of different ways we can have our coffee. Note that we can have coffee without any toppings or with different combination of toppings."
   ]
  },
  {
   "cell_type": "code",
   "execution_count": 31,
   "metadata": {},
   "outputs": [
    {
     "name": "stdout",
     "output_type": "stream",
     "text": [
      "Enter number of flavours of toppings: 5\n",
      "Number of combinations of coffee:  32\n"
     ]
    }
   ],
   "source": [
    "def no_of_combis(n):\n",
    "    return 2**n\n",
    "\n",
    "n = int(input(\"Enter number of flavours of toppings: \"))\n",
    "print(\"Number of combinations of coffee: \", no_of_combis(n))"
   ]
  },
  {
   "cell_type": "markdown",
   "metadata": {},
   "source": [
    "### Question 13: Similar elements in two string"
   ]
  },
  {
   "cell_type": "markdown",
   "metadata": {},
   "source": [
    "- Write a python program to display all the common characters between two strings. Return -1 if there are no matching characters.\n",
    "    Note: Ignore blank spaces if there are any. Perform case sensitive string comparison wherever necessary."
   ]
  },
  {
   "cell_type": "code",
   "execution_count": null,
   "metadata": {},
   "outputs": [],
   "source": [
    "s1 = input(\"Enter string 1: \")\n",
    "s2 = input(\"Enter string 2: \")\n",
    "similars = []\n",
    "for i in s1:\n",
    "    if i in s2 and i != ' ':\n",
    "        similars.append(i)\n",
    "\n",
    "print(\"\".join(similars))"
   ]
  },
  {
   "cell_type": "markdown",
   "metadata": {},
   "source": [
    "### Question 14: Encrypting sentence"
   ]
  },
  {
   "cell_type": "markdown",
   "metadata": {},
   "source": [
    "- .Write a python function, encrypt_sentence() which accepts a message and encrypts it based on rules given below and returns the encrypted message.\n",
    "    - Words at odd position -> Reverse It\n",
    "    - Words at even position -> Rearrange the characters so that all consonants appear before the vowels and their order should not change\n",
    "    Note:\n",
    "    1. Assume that the sentence would begin with a word and there will be only a single space between the words.\n",
    "    2. Perform case sensitive string operations wherever necessary."
   ]
  },
  {
   "cell_type": "code",
   "execution_count": null,
   "metadata": {},
   "outputs": [],
   "source": [
    "def rearrange(string):\n",
    "    vowels = \"\"\n",
    "    consonants = \"\"\n",
    "    for i in string:\n",
    "        if i in 'aeiouAEIOU':\n",
    "            vowels += i\n",
    "        else:\n",
    "            consonants += i\n",
    "    return consonants+vowels\n",
    "\n",
    "def encrypt_message(mssg):\n",
    "    words = mssg.split()\n",
    "    encrypted = []\n",
    "    for i in range(len(words)):\n",
    "        if i % 2 == 0:\n",
    "            encrypted.append(words[i][: : -1])\n",
    "        else:\n",
    "            encrypted.append(rearrange(words[i]))\n",
    "    return \" \".join(encrypted)\n",
    "\n",
    "m = input(\"Enter your message: \")\n",
    "print(encrypt_message(m))"
   ]
  },
  {
   "cell_type": "markdown",
   "metadata": {},
   "source": [
    "### Question 15: Hospital specialists"
   ]
  },
  {
   "cell_type": "markdown",
   "metadata": {},
   "source": [
    "- Care hospital wants to know the medical speciality visited by the maximum number of patients. Assume that the patient id of the patient along with the medical speciality visited by the patient is stored in a list. The details of the medical specialities are stored in a dictionary as follows:{\"P\":\"Pediatrics\",\"O\":\"Orthopedics\",\"E\":\"ENT\"}\n",
    "    Write a function to find the medical speciality visited by the maximum number of patients and return the name of the speciality."
   ]
  },
  {
   "cell_type": "code",
   "execution_count": 4,
   "metadata": {},
   "outputs": [
    {
     "name": "stdout",
     "output_type": "stream",
     "text": [
      "Enter id of patients along with specialities visited: 101,O,102,E,302,P,305,P,401,E,656,O,987,E\n",
      "Maximum visited speciality in the hospital:  ENT\n"
     ]
    }
   ],
   "source": [
    "def get_key(d, val):\n",
    "    for key, value in d.items():\n",
    "        if val == value:\n",
    "            return key\n",
    "    return 'key doesnot exist'\n",
    "\n",
    "specialities = {\"P\":\"Pediatrics\",\"O\":\"Orthopedics\", \"E\":\"ENT\"}\n",
    "patients = {\"P\":0, \"O\":0, \"E\":0}\n",
    "\n",
    "l = input(\"Enter id of patients along with specialities visited: \").split(',')\n",
    "\n",
    "for i in range(1,len(l), +2):\n",
    "    patients[l[i]] += 1\n",
    "\n",
    "m = max(patients.values())\n",
    "print(\"Maximum visited speciality in the hospital: \", specialities[get_key(patients, m)])"
   ]
  },
  {
   "cell_type": "markdown",
   "metadata": {},
   "source": [
    "### Question 16: SMS encoding"
   ]
  },
  {
   "cell_type": "markdown",
   "metadata": {},
   "source": [
    "- Write python function, sms_encoding() which accepts a sentence and converts it into an abbreviated sentence to be sent as SMS and returns the abbreviated sentence.\n",
    "    Rules are as follows:\n",
    "    - a. Spaces are to be retained as is\n",
    "    - b. Each word should be encoded separately\n",
    "        - • If a word has only vowels then retain the word as is\n",
    "        - • If a word has a consonant (at least 1) then retain only those consonants"
   ]
  },
  {
   "cell_type": "code",
   "execution_count": 10,
   "metadata": {},
   "outputs": [
    {
     "name": "stdout",
     "output_type": "stream",
     "text": [
      "Enter the message: MSD says I love cricket and tennis too\n",
      "MSD sys I lv crckt nd tnns t \n"
     ]
    }
   ],
   "source": [
    "def has_allVowels(word):\n",
    "    for i in word:\n",
    "        if i not in 'aeiouAEIOU':\n",
    "            return False\n",
    "    return True\n",
    "\n",
    "msg = input(\"Enter the message: \").split()\n",
    "sms = ''\n",
    "for i in msg:\n",
    "    if has_allVowels(i):\n",
    "        sms += i +' '\n",
    "        continue\n",
    "    for j in i:\n",
    "        if j not in 'aeiouAEIOU':\n",
    "            sms += j\n",
    "    sms += ' '\n",
    "print(sms)\n",
    "        "
   ]
  },
  {
   "cell_type": "markdown",
   "metadata": {},
   "source": [
    "### Question 17: Largest frequency"
   ]
  },
  {
   "cell_type": "markdown",
   "metadata": {},
   "source": [
    "- Write a python program that accepts a text and displays a string which contains the word with the largest frequency in the text and the frequency itself separated by a space.\n",
    "    Rules:\n",
    "     1. The word should have the largest frequency.\n",
    "     2. In case multiple words have the same frequency, then choose the word that has the maximum length.\n",
    "    Assumptions:\n",
    "    1. The text has no special characters other than space.\n",
    "    2. The text would begin with a word and there will be only a single space between the words."
   ]
  },
  {
   "cell_type": "code",
   "execution_count": 16,
   "metadata": {},
   "outputs": [
    {
     "name": "stdout",
     "output_type": "stream",
     "text": [
      "Enter the text: Courage is not the absence of fear but rather the judgement that something else is more important than fear\n",
      "The word with highest frequency is 'fear' with a frequency of 2\n"
     ]
    }
   ],
   "source": [
    "def largest(d):\n",
    "    k = list(d.keys())\n",
    "    vals = list(d.values())\n",
    "    large = []\n",
    "    m = max(vals)\n",
    "    if vals.count(m) > 1:\n",
    "        for i in range(len(vals)):\n",
    "            if m == vals[i]:\n",
    "                large.append(k[i])\n",
    "    lens = [len(i) for i in large]\n",
    "    return (large[lens.index(max(lens))], m)\n",
    "\n",
    "text = input(\"Enter the text: \").split()\n",
    "words = []\n",
    "\n",
    "for i in text:\n",
    "    if i not in words:\n",
    "        words.append(i)\n",
    "\n",
    "d = {}\n",
    "for i in words:\n",
    "    d.update({i : text.count(i)})\n",
    "\n",
    "w, freq = largest(d)\n",
    "print(f\"The word with highest frequency is \\'{w}\\' with a frequency of {freq}\")\n",
    "\n"
   ]
  },
  {
   "cell_type": "markdown",
   "metadata": {},
   "source": [
    "### Question 18: Amicable pair"
   ]
  },
  {
   "cell_type": "markdown",
   "metadata": {},
   "source": [
    "- Write a Python function check_amicable_numbers(num1, num2) that accepts two numbers num1 and num2 as arguments and returns True if the given pair of numbers are amicable numbers else return false. Invoke the function and based on return value print the numbers are amicable numbers or not."
   ]
  },
  {
   "cell_type": "code",
   "execution_count": 18,
   "metadata": {},
   "outputs": [
    {
     "name": "stdout",
     "output_type": "stream",
     "text": [
      "Enter number 1: 220\n",
      "Enter number 2: 284\n",
      "220 and 284 are an Amicable pair\n"
     ]
    }
   ],
   "source": [
    "def sum_of_divisors(num):\n",
    "    sum = 0\n",
    "    for i in range(1, num):\n",
    "        if num % i == 0:\n",
    "            sum += i\n",
    "    return sum\n",
    "\n",
    "def check_amicable_numbers(num1, num2):\n",
    "    if sum_of_divisors(num1) == num2 and sum_of_divisors(num2) == num1:\n",
    "        return True\n",
    "    else:\n",
    "        return False\n",
    "\n",
    "num1 = int(input(\"Enter number 1: \"))\n",
    "num2 = int(input(\"Enter number 2: \"))\n",
    "if check_amicable_numbers(num1, num2):\n",
    "    print(num1, 'and', num2, 'are an Amicable pair')\n",
    "else:\n",
    "    print(num1, 'and', num2, 'are not an Amicable pair')"
   ]
  }
 ],
 "metadata": {
  "kernelspec": {
   "display_name": "Python 3 (ipykernel)",
   "language": "python",
   "name": "python3"
  },
  "language_info": {
   "codemirror_mode": {
    "name": "ipython",
    "version": 3
   },
   "file_extension": ".py",
   "mimetype": "text/x-python",
   "name": "python",
   "nbconvert_exporter": "python",
   "pygments_lexer": "ipython3",
   "version": "3.10.6"
  }
 },
 "nbformat": 4,
 "nbformat_minor": 2
}
