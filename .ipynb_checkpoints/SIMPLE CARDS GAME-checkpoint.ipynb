{
 "cells": [
  {
   "cell_type": "markdown",
   "id": "8a804156",
   "metadata": {},
   "source": [
    "## Card Class"
   ]
  },
  {
   "cell_type": "code",
   "execution_count": null,
   "id": "6d153792",
   "metadata": {},
   "outputs": [],
   "source": [
    "import random\n",
    "\n",
    "suits = (\"Hearts\", \"Diamonds\", \"Spades\", \"Clubs\")\n",
    "ranks = (\"Two\", \"Three\", \"Four\", \"Five\", \"Six\", \"Seven\", \"Eight\", \"Nine\", \"Ten\", \"Jack\", \"Queen\", \"King\", \"Ace\")\n",
    "\n",
    "values = {'Two': 2, 'Three': 3, 'Four': 4, 'Five': 5, 'Six': 6, 'Seven': 7, 'Eight': 8, 'Nine': 9, 'Ten': 10,\n",
    "          'Jack': 11, 'Queen': 12, 'King': 13, 'Ace': 14}"
   ]
  },
  {
   "cell_type": "code",
   "execution_count": null,
   "id": "494dfff1",
   "metadata": {},
   "outputs": [],
   "source": [
    "class Card:\n",
    "    \n",
    "    def __init__(self, suit, rank):\n",
    "        self.suit = suit\n",
    "        self.rank = rank\n",
    "        self.value = values[rank]\n",
    "    \n",
    "    def __str__(self):\n",
    "        return self.rank + \" of \" + self.suit\n",
    "    \n",
    "    def __gt__(self, card):\n",
    "        return self.value > card.value\n",
    "    \n",
    "    def __lt__(self, card):\n",
    "        return self.value < card.value\n",
    "    \n",
    "    def __eq__(self, card):\n",
    "        return self.value == card.value"
   ]
  },
  {
   "cell_type": "code",
   "execution_count": null,
   "id": "d12f3dc8",
   "metadata": {},
   "outputs": [],
   "source": [
    "class Deck:\n",
    "    \n",
    "    def __init__(self):\n",
    "        self.all_cards = [Card(x, y) for x in suits for y in ranks]\n",
    "    \n",
    "    def shuffle(self):\n",
    "        random.shuffle(self.all_cards)\n",
    "        \n",
    "    def deal_one(self):\n",
    "        return self.all_cards.pop()"
   ]
  },
  {
   "cell_type": "code",
   "execution_count": null,
   "id": "7a9310cd",
   "metadata": {},
   "outputs": [],
   "source": [
    "class Player:\n",
    "    \n",
    "    def __init__(self, name):\n",
    "        self.name = name\n",
    "        self.all_cards = []\n",
    "        \n",
    "    def remove_one(self):\n",
    "        return self.all_cards.pop(0)\n",
    "    \n",
    "    def add_cards(self, new_cards):\n",
    "        if type(new_cards) == type([]):\n",
    "            self.all_cards.extend(new_cards)\n",
    "        else:\n",
    "            self.all_cards.append(new_cards)\n",
    "    \n",
    "    def __str__(self):\n",
    "        return f'Player {self.name} has {len(self.all_cards)} cards.'\n",
    "    \n",
    "    def __len__(self):\n",
    "        return len(self.all_cards)"
   ]
  },
  {
   "cell_type": "code",
   "execution_count": null,
   "id": "3220c67f",
   "metadata": {},
   "outputs": [],
   "source": [
    "player1 = Player(input(\"Enter first player name: \"))\n",
    "player2 = Player(input(\"Enter second player name: \"))\n",
    "\n",
    "deck = Deck()\n",
    "deck.shuffle()\n",
    "\n",
    "for x in range(26):\n",
    "    player1.add_cards(deck.deal_one())\n",
    "    player2.add_cards(deck.deal_one())\n",
    "\n",
    "game_on = True\n",
    "round = 0\n",
    "while game_on:\n",
    "    \n",
    "    round += 1\n",
    "    print(f\"Round {round}\")\n",
    "    \n",
    "    if len(player1) == 0:\n",
    "        winner = player2\n",
    "        game_on = False\n",
    "        break\n",
    "            \n",
    "    if len(player2) == 0:\n",
    "        winner = player1\n",
    "        game_on = False\n",
    "        break\n",
    "                \n",
    "    check = []\n",
    "    check.extend([player1.remove_one(), player2.remove_one()])\n",
    "    war_on = True\n",
    "        \n",
    "    while war_on:\n",
    "        if check[-2] > check[-1]:\n",
    "            player1.add_cards(check)\n",
    "            war_on = False\n",
    "        elif check[-2] < check[-1]:\n",
    "            player2.add_cards(check)\n",
    "            war_on = False\n",
    "        else:\n",
    "            print(\"WAR!!\")\n",
    "            if len(player1) < 5:\n",
    "                winner = player2\n",
    "                print(player1.name + \" does not have enough cards to play\")\n",
    "                game_on = False\n",
    "                break\n",
    "            elif len(player2) < 5:\n",
    "                winner = player1\n",
    "                print(player2.name + \" does not have enough cards to play\")\n",
    "                game_on = False\n",
    "                break\n",
    "            else:\n",
    "                for i in range(5):\n",
    "                    check.append(player1.remove_one())\n",
    "                    check.append(player2.remove_one())\n",
    "                    \n",
    "print(winner.name+\" and wins the game!!\")"
   ]
  }
 ],
 "metadata": {
  "kernelspec": {
   "display_name": "Python 3 (ipykernel)",
   "language": "python",
   "name": "python3"
  },
  "language_info": {
   "codemirror_mode": {
    "name": "ipython",
    "version": 3
   },
   "file_extension": ".py",
   "mimetype": "text/x-python",
   "name": "python",
   "nbconvert_exporter": "python",
   "pygments_lexer": "ipython3",
   "version": "3.10.6"
  }
 },
 "nbformat": 4,
 "nbformat_minor": 5
}
