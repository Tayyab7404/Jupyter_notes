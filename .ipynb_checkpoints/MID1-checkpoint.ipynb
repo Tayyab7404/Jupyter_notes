{
 "cells": [
  {
   "cell_type": "markdown",
   "id": "87442e31",
   "metadata": {},
   "source": [
    "### Palindromic numbers"
   ]
  },
  {
   "cell_type": "code",
   "execution_count": 1,
   "id": "edc2924c",
   "metadata": {},
   "outputs": [
    {
     "name": "stdout",
     "output_type": "stream",
     "text": [
      "All Palindromic numbers between 1 and 1000 are: \n",
      "1 2 3 4 5 6 7 8 9 11 22 33 44 55 66 77 88 99 101 111 121 131 141 151 161 171 181 191 202 212 222 232 242 252 262 272 282 292 303 313 323 333 343 353 363 373 383 393 404 414 424 434 444 454 464 474 484 494 505 515 525 535 545 555 565 575 585 595 606 616 626 636 646 656 666 676 686 696 707 717 727 737 747 757 767 777 787 797 808 818 828 838 848 858 868 878 888 898 909 919 929 939 949 959 969 979 989 999 "
     ]
    }
   ],
   "source": [
    "def isPalin(n):\n",
    "    if str(n) == str(n)[::-1]:\n",
    "        return True\n",
    "    else:\n",
    "        return False\n",
    "    \n",
    "print(\"All Palindromic numbers between 1 and 1000 are: \")\n",
    "for i in range(1, 1001):\n",
    "    if isPalin(i):\n",
    "        print(i, end=' ')\n",
    "        "
   ]
  },
  {
   "cell_type": "markdown",
   "id": "f1781764",
   "metadata": {},
   "source": [
    "### Strong number"
   ]
  },
  {
   "cell_type": "code",
   "execution_count": null,
   "id": "76cae514",
   "metadata": {},
   "outputs": [],
   "source": [
    "def fact(n):\n",
    "    if n == 0 or n == 1:\n",
    "        return 1\n",
    "    else:\n",
    "        return n * fact(n - 1)\n",
    "\n",
    "def isStrong(n):\n",
    "    sum = 0\n",
    "    for i in str(n):\n",
    "        sum += fact(int(i))\n",
    "    if sum == n:\n",
    "        return True\n",
    "    else:\n",
    "        return False\n",
    "    \n",
    "n = int(input(\"Enter a number: \"))\n",
    "if isStrong(n):\n",
    "    print(n,\"is a Strong number\")\n",
    "else:\n",
    "    print(n,\"is not a Strong number\")"
   ]
  },
  {
   "cell_type": "markdown",
   "id": "b1fd1be0",
   "metadata": {},
   "source": [
    "### n and 2^n - 1 are Prime numbers where n is a prime number"
   ]
  },
  {
   "cell_type": "code",
   "execution_count": 2,
   "id": "cdc06a59",
   "metadata": {},
   "outputs": [
    {
     "name": "stdout",
     "output_type": "stream",
     "text": [
      "Enter a number: 3\n",
      "n = 3 and 2**n - 1 = 7 are both Prime numbers\n"
     ]
    }
   ],
   "source": [
    "def isPrime(n):\n",
    "    for i in range(2, n//2 + 1):\n",
    "        if n % i == 0:\n",
    "            return False\n",
    "    return True\n",
    "\n",
    "n = int(input(\"Enter a number: \"))\n",
    "\n",
    "if isPrime(n):\n",
    "    if isPrime(2**n - 1):\n",
    "        print(\"n =\",n,\"and 2**n - 1 =\", (2**n - 1), \"are both Prime numbers\")\n",
    "    else:\n",
    "        print(\"n =\",n,\"is Prime, but 2**n - 1 =\", (2**n - 1), \"is not a Prime number\")\n",
    "else:\n",
    "    print(n,\"is not a Prime number\")"
   ]
  },
  {
   "cell_type": "markdown",
   "id": "06f31364",
   "metadata": {},
   "source": [
    "### License plate numbers"
   ]
  },
  {
   "cell_type": "code",
   "execution_count": null,
   "id": "7a32b015",
   "metadata": {},
   "outputs": [],
   "source": [
    "letters = [chr(x) for x in range(65, 91)]\n",
    "numbers = [x for x in range(1000, 10000)]\n",
    "\n",
    "plates = []\n",
    "\n",
    "for i in letters:\n",
    "    for j in letters:\n",
    "        for k in letters:\n",
    "            for l in numbers:\n",
    "                plates.append(i+j+k+str(l))\n",
    "                \n",
    "print(\"All possible license plate numbers are: \")\n",
    "\n",
    "for i in range(10):\n",
    "    print(plates[i], end=', ')"
   ]
  },
  {
   "cell_type": "markdown",
   "id": "4b7e119f",
   "metadata": {},
   "source": [
    "### Towers of Hanoi"
   ]
  },
  {
   "cell_type": "code",
   "execution_count": 8,
   "id": "9cf3d322",
   "metadata": {},
   "outputs": [
    {
     "name": "stdout",
     "output_type": "stream",
     "text": [
      "Enter number of plates: 3\n",
      "Moving plate 1 from A to C\n",
      "Moving plate 2 from A to B\n",
      "Moving plate 1 from C to B\n",
      "Moving plate 3 from A to C\n",
      "Moving plate 1 from B to A\n",
      "Moving plate 2 from B to C\n",
      "Moving plate 1 from A to C\n"
     ]
    }
   ],
   "source": [
    "def TOH(n, from_rod, to_rod, aux_rod):\n",
    "    if n == 0:\n",
    "        return\n",
    "    \n",
    "    TOH(n-1, from_rod, aux_rod, to_rod)\n",
    "    print(\"Moving plate\", n, \"from\", from_rod, \"to\", to_rod)\n",
    "    TOH(n-1, aux_rod, to_rod, from_rod)\n",
    "    \n",
    "n = int(input(\"Enter number of plates: \"))\n",
    "TOH(n, 'A', 'C', 'B')"
   ]
  },
  {
   "cell_type": "markdown",
   "id": "55ac3aaa",
   "metadata": {},
   "source": [
    "### Converting decimal number to binary and hexdecimal"
   ]
  },
  {
   "cell_type": "code",
   "execution_count": 11,
   "id": "7bd06756",
   "metadata": {},
   "outputs": [
    {
     "name": "stdout",
     "output_type": "stream",
     "text": [
      "Enter a decimal number: 345\n",
      "Binary equivalent of 345 is 101011001\n",
      "Hexadecimal equivalent of 345 is 159\n"
     ]
    }
   ],
   "source": [
    "def to_bin(n):\n",
    "    bin = ''\n",
    "    while n > 0:\n",
    "        bin = str(n % 2) + bin\n",
    "        n = n // 2\n",
    "    return bin\n",
    "\n",
    "def to_hex(n):\n",
    "    hex = ''\n",
    "    d = {1:'1', 2:'2', 3:'3', 4:'4', 5:'5', 6:'6', 7:'7', 8:'8', 9:'9', 10:'A', 11:'B', 12:'C', 13:'D', 14:'E', 15:'F'}\n",
    "    while n > 0:\n",
    "        hex = d[n % 16] + hex\n",
    "        n = n // 16\n",
    "    return hex\n",
    "\n",
    "n = int(input(\"Enter a decimal number: \"))\n",
    "\n",
    "print(\"Binary equivalent of\", n,\"is\", to_bin(n))\n",
    "print(\"Hexadecimal equivalent of\", n, \"is\", to_hex(n))"
   ]
  },
  {
   "cell_type": "markdown",
   "id": "65a4f80a",
   "metadata": {},
   "source": [
    "### Merging to files in reverse order to another file"
   ]
  },
  {
   "cell_type": "code",
   "execution_count": 13,
   "id": "ee0ba003",
   "metadata": {},
   "outputs": [
    {
     "name": "stdout",
     "output_type": "stream",
     "text": [
      "Enter first file name: file1.txt\n",
      "Enter second file name: file2.txt\n",
      "Enter third file name: file3.txt\n",
      "Data in file1: \n",
      " I am Roshan Ali\n",
      "I am a student RVR & JC College of Engineering\n",
      "I am a CSE student\n",
      "Regd. no.: Y21CS160\n",
      "\n",
      "Data in file2: \n",
      " 1: I am Roshan Ali\n",
      "2: I am a student RVR & JC College of Engineering\n",
      "3: I am a CSE student\n",
      "4: Regd. no.: Y21CS160\n",
      "\n",
      "Data in third file after merging in reverse order: \n",
      " \n",
      "061SC12Y :.on .dgeR :4\n",
      "tneduts ESC a ma I :3\n",
      "gnireenignE fo egelloC CJ & RVR tneduts a ma I :2\n",
      "ilA nahsoR ma I :1\n",
      "061SC12Y :.on .dgeR\n",
      "tneduts ESC a ma I\n",
      "gnireenignE fo egelloC CJ & RVR tneduts a ma I\n",
      "ilA nahsoR ma I\n",
      "Size of the third file:  216\n"
     ]
    }
   ],
   "source": [
    "n1 = input(\"Enter first file name: \")\n",
    "n2 = input(\"Enter second file name: \")\n",
    "n3 = input(\"Enter third file name: \")\n",
    "\n",
    "f1 = open(n1, \"r\")\n",
    "f2 = open(n2, \"r\")\n",
    "f3 = open(n3, \"a\")\n",
    "\n",
    "text = f1.read() + f2.read()\n",
    "\n",
    "f1.seek(0,0)\n",
    "f2.seek(0,0)\n",
    "\n",
    "print(\"Data in file1: \\n\", f1.read())\n",
    "print(\"Data in file2: \\n\", f2.read())\n",
    "\n",
    "f3.write(text[::-1])\n",
    "\n",
    "f1.close()\n",
    "f2.close()\n",
    "f3.close()\n",
    "\n",
    "f3 = open(n3, \"r\")\n",
    "print(\"Data in third file after merging in reverse order: \\n\", f3.read())\n",
    "print(\"Size of the third file: \", f3.tell())"
   ]
  },
  {
   "cell_type": "markdown",
   "id": "b769117f",
   "metadata": {},
   "source": [
    "### Finding frequency of each word in a text file"
   ]
  },
  {
   "cell_type": "code",
   "execution_count": 14,
   "id": "6c0eb089",
   "metadata": {},
   "outputs": [
    {
     "name": "stdout",
     "output_type": "stream",
     "text": [
      "Enter the file name: file1.txt\n",
      "The frequencies of the words in the given text file are: \n",
      "I : 3\n",
      "am : 3\n",
      "Roshan : 1\n",
      "Ali : 1\n",
      "a : 2\n",
      "student : 2\n",
      "RVR : 1\n",
      "& : 1\n",
      "JC : 1\n",
      "College : 1\n",
      "of : 1\n",
      "Engineering : 1\n",
      "CSE : 1\n",
      "Regd. : 1\n",
      "no.: : 1\n",
      "Y21CS160 : 1\n"
     ]
    }
   ],
   "source": [
    "n = input(\"Enter the file name: \")\n",
    "f = open(n, \"r\")\n",
    "\n",
    "words = f.read().split()\n",
    "freq = {}\n",
    "\n",
    "for i in words:\n",
    "    if i not in freq:\n",
    "        freq[i] = words.count(i)\n",
    "        \n",
    "print(\"The frequencies of the words in the given text file are: \")\n",
    "for key, val in freq.items():\n",
    "    print(key, \":\", val)"
   ]
  }
 ],
 "metadata": {
  "kernelspec": {
   "display_name": "Python 3 (ipykernel)",
   "language": "python",
   "name": "python3"
  },
  "language_info": {
   "codemirror_mode": {
    "name": "ipython",
    "version": 3
   },
   "file_extension": ".py",
   "mimetype": "text/x-python",
   "name": "python",
   "nbconvert_exporter": "python",
   "pygments_lexer": "ipython3",
   "version": "3.10.5"
  }
 },
 "nbformat": 4,
 "nbformat_minor": 5
}
