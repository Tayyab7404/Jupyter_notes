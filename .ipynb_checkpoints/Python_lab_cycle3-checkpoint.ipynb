{
 "cells": [
  {
   "cell_type": "markdown",
   "id": "48f6589d",
   "metadata": {},
   "source": [
    "\n",
    "### Question 1"
   ]
  },
  {
   "cell_type": "code",
   "execution_count": 6,
   "id": "7aa0e973",
   "metadata": {},
   "outputs": [
    {
     "name": "stdout",
     "output_type": "stream",
     "text": [
      "5\n",
      "8\n",
      "d is not defined!\n",
      "C= 0.625\n"
     ]
    }
   ],
   "source": [
    "try:\n",
    "    a = int(input())\n",
    "    b = int(input())\n",
    "    \n",
    "    c = a / b\n",
    "    print(d)\n",
    "    \n",
    "except ZeroDivisionError:\n",
    "    print(\"Division by zero is not possible! Please try a valid number\")\n",
    "\n",
    "except ValueError:\n",
    "    print(\"Only integers are allowed! Please try a valid input\")\n",
    "\n",
    "except NameError:\n",
    "    print(\"d is not defined!\")\n",
    "    print(\"C=\",c)"
   ]
  },
  {
   "cell_type": "markdown",
   "id": "db9849a5",
   "metadata": {},
   "source": [
    "### Question 2"
   ]
  },
  {
   "cell_type": "code",
   "execution_count": 29,
   "id": "955c6c1a",
   "metadata": {},
   "outputs": [
    {
     "name": "stdout",
     "output_type": "stream",
     "text": [
      "Enter a number: 15\n",
      "15 is not a Prime number\n",
      "15 is an Odd number\n"
     ]
    }
   ],
   "source": [
    "import number\n",
    "\n",
    "n = int(input(\"Enter a number: \"))\n",
    "if number.isPrime(n):\n",
    "    print(n, \"is a Prime number\")\n",
    "else:\n",
    "    print(n, \"is not a Prime number\")\n",
    "\n",
    "if number.isEven(n):\n",
    "    print(n, \"is an Even number\")\n",
    "elif number.isOdd(n):\n",
    "    print(n, \"is an Odd number\")"
   ]
  },
  {
   "cell_type": "markdown",
   "id": "33ee82be",
   "metadata": {},
   "source": [
    "### Question 3"
   ]
  },
  {
   "cell_type": "code",
   "execution_count": 7,
   "id": "2dee612a",
   "metadata": {},
   "outputs": [
    {
     "name": "stdout",
     "output_type": "stream",
     "text": [
      "Enter age of candidate: 8\n",
      "Ineligible to vote\n",
      "Exit\n"
     ]
    }
   ],
   "source": [
    "class UnderAgeError(Exception):\n",
    "    def __init__(self, m):\n",
    "        self.msg = m\n",
    "\n",
    "try:\n",
    "    age = int(input(\"Enter age of candidate: \"))\n",
    "    if age < 18:\n",
    "        raise UnderAgeError(\"Ineligible to vote\")\n",
    "    else:\n",
    "        print(\"Eligible to vote!\")\n",
    "except UnderAgeError as e:\n",
    "    print(e.msg)\n",
    "finally:\n",
    "    print(\"Exit\")"
   ]
  },
  {
   "cell_type": "markdown",
   "id": "170190f7",
   "metadata": {},
   "source": [
    "### Question 4"
   ]
  },
  {
   "cell_type": "code",
   "execution_count": 41,
   "id": "52e962e9",
   "metadata": {},
   "outputs": [
    {
     "name": "stdout",
     "output_type": "stream",
     "text": [
      "Enter 1st value: 8\n",
      "Enter 2nd value: 6\n",
      "14\n"
     ]
    }
   ],
   "source": [
    "def add(p, q):\n",
    "    return p + q\n",
    "    \n",
    "p = input(\"Enter 1st value: \")\n",
    "q = input(\"Enter 2nd value: \")\n",
    "\n",
    "if p.isdigit():\n",
    "    p = int(p)\n",
    "if q.isdigit():\n",
    "    q = int(q)\n",
    "if type(p) == type(q):\n",
    "    print(add(p, q))\n",
    "else:\n",
    "    print(\"Invalid operation\")"
   ]
  },
  {
   "cell_type": "markdown",
   "id": "709c3177",
   "metadata": {},
   "source": [
    "### Question 5"
   ]
  },
  {
   "cell_type": "code",
   "execution_count": 30,
   "id": "9fbbc491",
   "metadata": {},
   "outputs": [],
   "source": [
    "class Mycomplex:\n",
    "    \n",
    "    def __init__(self, r, i):\n",
    "        self.real = r\n",
    "        self.img = i\n",
    "        \n",
    "    def __str__(self):\n",
    "        if self.img < 0:\n",
    "            out = ''\n",
    "        else:\n",
    "            out = '+'\n",
    "        return str(self.real) + out + str(self.img) + 'j'\n",
    "    \n",
    "    def __add__(self, c):\n",
    "        r = self.real + c.real\n",
    "        i = self.img + c.img\n",
    "        return Mycomplex(r, i)"
   ]
  },
  {
   "cell_type": "code",
   "execution_count": 42,
   "id": "b5016c7e",
   "metadata": {},
   "outputs": [
    {
     "name": "stdout",
     "output_type": "stream",
     "text": [
      "Enter first complex number: \n",
      "\tReal part:15\n",
      "\tImaginary part: 6\n",
      "Enter second complex number: \n",
      "\tReal part: -8\n",
      "\tImaginary part: -12\n",
      "15+6j + -8-12j = 7-6j\n"
     ]
    }
   ],
   "source": [
    "print(\"Enter first complex number: \")\n",
    "r = int(input(\"\\tReal part:\"))\n",
    "i = int(input(\"\\tImaginary part: \"))\n",
    "c1 = Mycomplex(r, i)\n",
    "\n",
    "print(\"Enter second complex number: \")\n",
    "r = int(input(\"\\tReal part: \"))\n",
    "i = int(input(\"\\tImaginary part: \"))\n",
    "c2 = Mycomplex(r, i)\n",
    "\n",
    "print(f\"{c1} + {c2} =\", c1+c2)"
   ]
  },
  {
   "cell_type": "markdown",
   "id": "96915ed6",
   "metadata": {},
   "source": [
    "### Question 6"
   ]
  },
  {
   "cell_type": "code",
   "execution_count": 2,
   "id": "7c54ddf4",
   "metadata": {},
   "outputs": [],
   "source": [
    "class Myfractional:\n",
    "    \n",
    "    def Gcd(self, n1, n2):\n",
    "        if n2 == 0:\n",
    "            return n1\n",
    "        else:\n",
    "            return self.Gcd(n2, n1 % n2)\n",
    "    \n",
    "    def __init__(self, nu, dn):\n",
    "        g = self.Gcd(abs(nu), abs(dn))\n",
    "                \n",
    "        self.numerator = nu // g\n",
    "        self.denominator = dn // g\n",
    "        \n",
    "        if self.denominator < 0:\n",
    "            self.numerator = -self.numerator\n",
    "            self.denominator = -self.denominator\n",
    "        \n",
    "    \n",
    "    def __str__(self):\n",
    "        return str(self.numerator) + '/' + str(self.denominator)\n",
    "    \n",
    "    def __add__(self, f):\n",
    "        n = (self.numerator * f.denominator) + (self.denominator * f.numerator)\n",
    "        d = (self.denominator * f.denominator)\n",
    "        return Myfractional(n, d)\n",
    "    \n",
    "    def __sub__(self, f):\n",
    "        n = (self.numerator * f.denominator) - (self.denominator * f.numerator)\n",
    "        d = (self.denominator * f.denominator)\n",
    "        return Myfractional(n, d)\n",
    "\n",
    "    def __float__(self):\n",
    "        return self.numerator / self.denominator"
   ]
  },
  {
   "cell_type": "code",
   "execution_count": 3,
   "id": "fc17f3b4",
   "metadata": {},
   "outputs": [
    {
     "name": "stdout",
     "output_type": "stream",
     "text": [
      "Enter a fractional number(p/q): 1/8\n",
      "Enter another fracitonal number(p/q): 5/9\n",
      "Fraction1: 1/8\n",
      "Fraction2: 5/9\n",
      "f1 + f2 =  49/72\n",
      "f1 - f2 =  -31/72\n",
      "Floating point representation of 1/8:  0.125\n"
     ]
    }
   ],
   "source": [
    "n, d = [int(x) for x in input(\"Enter a fractional number(p/q): \").split('/')]\n",
    "f1 = Myfractional(n, d)\n",
    "\n",
    "n, d = [int(x) for x in input(\"Enter another fracitonal number(p/q): \").split('/')]\n",
    "f2 = Myfractional(n, d)\n",
    "\n",
    "print(f\"Fraction1: {f1}\\nFraction2: {f2}\")\n",
    "print(f\"f1 + f2 = \", f1 + f2)\n",
    "print(f\"f1 - f2 = \", f1 - f2)\n",
    "print(f\"Floating point representation of {f1}: \", float(f1))"
   ]
  },
  {
   "cell_type": "markdown",
   "id": "0c6ed05a",
   "metadata": {},
   "source": [
    "### Question 7"
   ]
  },
  {
   "cell_type": "code",
   "execution_count": 20,
   "id": "9ba800de",
   "metadata": {},
   "outputs": [],
   "source": [
    "class Vehicle:\n",
    "    \n",
    "    def __init__(self, t, color, speed, price, gears):\n",
    "        self.t = t\n",
    "        self.color = color\n",
    "        self.price = price\n",
    "        self.gears = gears\n",
    "        self.spd = speed\n",
    "        \n",
    "    def show(self):\n",
    "        print(f\"Type of vehicle: {self.t}\")\n",
    "        print(f\"Color of {self.t}: {self.color}\")\n",
    "        print(f\"Price of {self.t}: {self.price}\")\n",
    "        \n",
    "    def speed(self):\n",
    "        print(f\"Maximum of speed of {self.t}: {self.spd}\")\n",
    "        \n",
    "    def change_gear(self):\n",
    "        print(f\"Number of gears of {self.t}: {self.gears}\")\n",
    "\n",
    "class Car(Vehicle):\n",
    "    pass\n",
    "\n",
    "class Truck(Vehicle):\n",
    "    pass"
   ]
  },
  {
   "cell_type": "code",
   "execution_count": 22,
   "id": "9d86ea78",
   "metadata": {},
   "outputs": [
    {
     "name": "stdout",
     "output_type": "stream",
     "text": [
      "Type of vehicle: car\n",
      "Color of car: silver\n",
      "Price of car: 400000\n",
      "Maximum of speed of car: 140\n",
      "Number of gears of car: 5\n",
      "\n",
      "Type of vehicle: truck\n",
      "Color of truck: red\n",
      "Price of truck: 800000\n",
      "Maximum of speed of truck: 110\n",
      "Number of gears of truck: 5\n"
     ]
    }
   ],
   "source": [
    "c = Car(\"car\", \"silver\", 140, 400000, 5)\n",
    "t = Truck(\"truck\", \"red\", 110, 800000, 5)\n",
    "\n",
    "c.show()\n",
    "c.speed()\n",
    "c.change_gear()\n",
    "print()\n",
    "t.show()\n",
    "t.speed()\n",
    "t.change_gear()"
   ]
  },
  {
   "cell_type": "markdown",
   "id": "a715ec00",
   "metadata": {},
   "source": [
    "### Question 8"
   ]
  },
  {
   "cell_type": "code",
   "execution_count": 28,
   "id": "237a89b7",
   "metadata": {},
   "outputs": [],
   "source": [
    "from abc import *\n",
    "\n",
    "class Shape(ABC):\n",
    "    \n",
    "    @abstractmethod\n",
    "    def area():\n",
    "        pass\n",
    "    \n",
    "    @abstractmethod\n",
    "    def perimeter():\n",
    "        pass\n",
    "    \n",
    "class Square(Shape):\n",
    "    \n",
    "    def __init__(self, side):\n",
    "        self.side = side\n",
    "        \n",
    "    def area(self):\n",
    "        return str(self.side ** 2)\n",
    "    \n",
    "    def perimeter(self):\n",
    "        return str(4 * self.side)\n",
    "        \n",
    "class Rectangle(Shape):\n",
    "    \n",
    "    def __init__(self, l, b):\n",
    "        self.length = l\n",
    "        self.breadth = b\n",
    "        \n",
    "    def area(self):\n",
    "        return str(self.length * self.breadth)\n",
    "    \n",
    "    def perimeter(self):\n",
    "        return str(2 * (self.length + self.breadth))"
   ]
  },
  {
   "cell_type": "code",
   "execution_count": 29,
   "id": "aa6df18e",
   "metadata": {},
   "outputs": [
    {
     "name": "stdout",
     "output_type": "stream",
     "text": [
      "Area of Square:  16\n",
      "Perimeter of Square:  16\n",
      "Area of rectangle:  42\n",
      "Perimeter of rectangle:  26\n"
     ]
    }
   ],
   "source": [
    "s = Square(4)\n",
    "r = Rectangle(6, 7)\n",
    "\n",
    "print(\"Area of Square: \", s.area())\n",
    "print(\"Perimeter of Square: \", s.perimeter())\n",
    "\n",
    "print(\"Area of rectangle: \",r.area())\n",
    "print(\"Perimeter of rectangle: \", r.perimeter())"
   ]
  },
  {
   "cell_type": "markdown",
   "id": "9b932b15",
   "metadata": {},
   "source": [
    "### Question 9"
   ]
  },
  {
   "cell_type": "code",
   "execution_count": 9,
   "id": "c56b641d",
   "metadata": {},
   "outputs": [],
   "source": [
    "class Father:\n",
    "    \n",
    "    def height(self):\n",
    "        print(\"Height is 6 feet\")\n",
    "\n",
    "class Mother:\n",
    "    \n",
    "    def color(self):\n",
    "        print(\"Color is fare\")\n",
    "        \n",
    "class Son(Father, Mother):\n",
    "    \n",
    "    def __init__(self):\n",
    "        pass"
   ]
  },
  {
   "cell_type": "code",
   "execution_count": 10,
   "id": "76a49eb8",
   "metadata": {},
   "outputs": [
    {
     "name": "stdout",
     "output_type": "stream",
     "text": [
      "Height is 6 feet\n",
      "Color is fare\n"
     ]
    }
   ],
   "source": [
    "s = Son()\n",
    "s.height()\n",
    "s.color()"
   ]
  },
  {
   "cell_type": "markdown",
   "id": "42a332fe",
   "metadata": {},
   "source": [
    "### Question 10"
   ]
  },
  {
   "cell_type": "code",
   "execution_count": 11,
   "id": "1bb69943",
   "metadata": {},
   "outputs": [],
   "source": [
    "class GP:\n",
    "    \n",
    "    def __init__(self, property = 0):\n",
    "        self.property = property\n",
    "\n",
    "class Parent(GP):\n",
    "    \n",
    "    def __init__(self, property = 0, property1 = 0):\n",
    "        self.property1 = property1\n",
    "        super().__init__(property)\n",
    "\n",
    "class Son(Parent):\n",
    "    \n",
    "    def __init__(self, property = 0, property1 = 0, property2 = 0):\n",
    "        self.property2 = property2\n",
    "        super().__init__(property, property1)\n",
    "    \n",
    "    def display(self):\n",
    "        print(f\"Son property = Rs.{self.property2}, Parent Property = Rs.{self.property1}, GP property = Rs.{self.property}\")"
   ]
  },
  {
   "cell_type": "code",
   "execution_count": 15,
   "id": "3cc2cfe2",
   "metadata": {},
   "outputs": [
    {
     "name": "stdout",
     "output_type": "stream",
     "text": [
      "Son property = Rs.90000, Parent Property = Rs.100000, GP property = Rs.1000000\n"
     ]
    }
   ],
   "source": [
    "s = Son(1000000, 100000, 90000)\n",
    "s.display()"
   ]
  }
 ],
 "metadata": {
  "kernelspec": {
   "display_name": "Python 3 (ipykernel)",
   "language": "python",
   "name": "python3"
  },
  "language_info": {
   "codemirror_mode": {
    "name": "ipython",
    "version": 3
   },
   "file_extension": ".py",
   "mimetype": "text/x-python",
   "name": "python",
   "nbconvert_exporter": "python",
   "pygments_lexer": "ipython3",
   "version": "3.10.6"
  }
 },
 "nbformat": 4,
 "nbformat_minor": 5
}
