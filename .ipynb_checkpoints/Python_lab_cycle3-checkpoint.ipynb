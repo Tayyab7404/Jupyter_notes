{
 "cells": [
  {
   "cell_type": "markdown",
   "id": "48f6589d",
   "metadata": {},
   "source": [
    "\n",
    "### Question 1"
   ]
  },
  {
   "cell_type": "code",
   "execution_count": 6,
   "id": "7aa0e973",
   "metadata": {},
   "outputs": [
    {
     "name": "stdout",
     "output_type": "stream",
     "text": [
      "5\n",
      "8\n",
      "d is not defined!\n",
      "C= 0.625\n"
     ]
    }
   ],
   "source": [
    "try:\n",
    "    a = int(input())\n",
    "    b = int(input())\n",
    "    \n",
    "    c = a / b\n",
    "    print(d)\n",
    "    \n",
    "except ZeroDivisionError:\n",
    "    print(\"Division by zero is not possible! Please try a valid number\")\n",
    "\n",
    "except ValueError:\n",
    "    print(\"Only integers are allowed! Please try a valid input\")\n",
    "\n",
    "except NameError:\n",
    "    print(\"d is not defined!\")\n",
    "    print(\"C=\",c)"
   ]
  },
  {
   "cell_type": "markdown",
   "id": "db9849a5",
   "metadata": {},
   "source": [
    "### Question 2"
   ]
  },
  {
   "cell_type": "code",
   "execution_count": 4,
   "id": "ab691314",
   "metadata": {},
   "outputs": [],
   "source": [
    "class Number:\n",
    "    def __init__(self, num):\n",
    "        self.num = num\n",
    "        \n",
    "    def __str__(self):\n",
    "        return str(self.num)\n",
    "    \n",
    "    def isPrime(self):\n",
    "        for i in range(2, self.num//2 + 1):\n",
    "            if self.num % i == 0:\n",
    "                return False\n",
    "            \n",
    "        return True\n",
    "\n",
    "    def isEven(self):\n",
    "        return self.num % 2 == 0\n",
    "    \n",
    "    def isOdd(self):\n",
    "        return self.num % 2 == 1"
   ]
  },
  {
   "cell_type": "code",
   "execution_count": 10,
   "id": "955c6c1a",
   "metadata": {},
   "outputs": [
    {
     "name": "stdout",
     "output_type": "stream",
     "text": [
      "Enter a number: 11\n",
      "11 is a Prime number\n",
      "11 is not an Even number\n",
      "11 is an Odd number\n"
     ]
    }
   ],
   "source": [
    "number = Number(int(input(\"Enter a number: \")))\n",
    "\n",
    "if number.isPrime():\n",
    "    print(number, \"is a Prime number\")\n",
    "else:\n",
    "    print(number, \"is not a Prime number\")\n",
    "\n",
    "if number.isEven():\n",
    "    print(number, \"is an Even number\")\n",
    "else:\n",
    "    print(number, \"is not an Even number\")\n",
    "    \n",
    "if number.isOdd():\n",
    "    print(number, \"is an Odd number\")\n",
    "else:\n",
    "    print(number, \"is not an Odd number\")"
   ]
  }
 ],
 "metadata": {
  "kernelspec": {
   "display_name": "Python 3 (ipykernel)",
   "language": "python",
   "name": "python3"
  },
  "language_info": {
   "codemirror_mode": {
    "name": "ipython",
    "version": 3
   },
   "file_extension": ".py",
   "mimetype": "text/x-python",
   "name": "python",
   "nbconvert_exporter": "python",
   "pygments_lexer": "ipython3",
   "version": "3.10.5"
  }
 },
 "nbformat": 4,
 "nbformat_minor": 5
}
