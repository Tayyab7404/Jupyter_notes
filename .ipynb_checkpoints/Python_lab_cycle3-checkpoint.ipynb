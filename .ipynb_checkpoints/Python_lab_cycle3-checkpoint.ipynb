{
 "cells": [
  {
   "cell_type": "markdown",
   "id": "48f6589d",
   "metadata": {},
   "source": [
    "\n",
    "### Question 1"
   ]
  },
  {
   "cell_type": "code",
   "execution_count": 6,
   "id": "7aa0e973",
   "metadata": {},
   "outputs": [
    {
     "name": "stdout",
     "output_type": "stream",
     "text": [
      "5\n",
      "8\n",
      "d is not defined!\n",
      "C= 0.625\n"
     ]
    }
   ],
   "source": [
    "try:\n",
    "    a = int(input())\n",
    "    b = int(input())\n",
    "    \n",
    "    c = a / b\n",
    "    print(d)\n",
    "    \n",
    "except ZeroDivisionError:\n",
    "    print(\"Division by zero is not possible! Please try a valid number\")\n",
    "\n",
    "except ValueError:\n",
    "    print(\"Only integers are allowed! Please try a valid input\")\n",
    "\n",
    "except NameError:\n",
    "    print(\"d is not defined!\")\n",
    "    print(\"C=\",c)"
   ]
  },
  {
   "cell_type": "markdown",
   "id": "db9849a5",
   "metadata": {},
   "source": [
    "### Question 2"
   ]
  },
  {
   "cell_type": "code",
   "execution_count": null,
   "id": "ab691314",
   "metadata": {},
   "outputs": [],
   "source": [
    "class Number:\n",
    "    "
   ]
  }
 ],
 "metadata": {
  "kernelspec": {
   "display_name": "Python 3 (ipykernel)",
   "language": "python",
   "name": "python3"
  },
  "language_info": {
   "codemirror_mode": {
    "name": "ipython",
    "version": 3
   },
   "file_extension": ".py",
   "mimetype": "text/x-python",
   "name": "python",
   "nbconvert_exporter": "python",
   "pygments_lexer": "ipython3",
   "version": "3.10.5"
  }
 },
 "nbformat": 4,
 "nbformat_minor": 5
}
