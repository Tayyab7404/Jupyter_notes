{
 "cells": [
  {
   "cell_type": "markdown",
   "id": "b094464c",
   "metadata": {},
   "source": [
    "### Tic Tac Toe Game"
   ]
  },
  {
   "cell_type": "code",
   "execution_count": 1,
   "id": "9232d2f4",
   "metadata": {},
   "outputs": [],
   "source": [
    "#definition for printing of the tic tac toe board\n",
    "def board(r):\n",
    "    print(\"|\".join(r[0]))\n",
    "    print(\"-|-|-\")\n",
    "    print(\"|\".join(r[1]))\n",
    "    print(\"-|-|-\")\n",
    "    print(\"|\".join(r[2]))\n",
    "    print(\"-|-|-\")"
   ]
  },
  {
   "cell_type": "code",
   "execution_count": 2,
   "id": "a32ff243",
   "metadata": {},
   "outputs": [],
   "source": [
    "#definition to check if all the elements of the list are equal and not a whitespace\n",
    "def isEqual(lst):\n",
    "    return lst[0] == lst[1] and lst[1] == lst[2] and lst[0] != ' '"
   ]
  },
  {
   "cell_type": "code",
   "execution_count": 3,
   "id": "f2944fa4",
   "metadata": {},
   "outputs": [],
   "source": [
    "def isTie(r):\n",
    "    for i in range(3):\n",
    "        for j in range(3):\n",
    "            if r[i][j] == ' ':\n",
    "                return False\n",
    "    return True"
   ]
  },
  {
   "cell_type": "code",
   "execution_count": 4,
   "id": "1ba90cbb",
   "metadata": {},
   "outputs": [],
   "source": [
    "#function to check if any player has won\n",
    "def win(r):\n",
    "    \n",
    "    #for checking if any row has all equal values or not\n",
    "    for i in range(3):\n",
    "        if isEqual(r[i]):\n",
    "            return (True, r[i][0])\n",
    "    \n",
    "    #for checking if any column has all equal values or not\n",
    "    for i in range(3):\n",
    "        #taking elements of a single column at a time\n",
    "        col = [r[j][i] for j in range(3)]\n",
    "        if isEqual(col):\n",
    "            return (True, col[0])\n",
    "    \n",
    "    #checking if any of the diagonals are equal and not equal to whitespace\n",
    "    if ((r[0][0] == r[1][1] and r[1][1] == r[2][2]) or (r[0][2] == r[1][1] and r[1][1] == r[2][0])) and r[1][1] != ' ':\n",
    "        return True, r[1][1]\n",
    "    return False, 'None'"
   ]
  },
  {
   "cell_type": "code",
   "execution_count": 5,
   "id": "13692e10",
   "metadata": {},
   "outputs": [],
   "source": [
    "def check_in(row, col):\n",
    "    #checking if the given position has been taken by another player beforehand\n",
    "    if r[row][col] != ' ':\n",
    "        print(\"Position not empty! Please try another position\")\n",
    "        return False\n",
    "    else:\n",
    "        return True"
   ]
  },
  {
   "cell_type": "code",
   "execution_count": 6,
   "id": "4b5d47c2",
   "metadata": {},
   "outputs": [],
   "source": [
    "def playing():\n",
    "    choice = 'wrong'\n",
    "    \n",
    "    while choice not in ['Y', 'N']:\n",
    "        \n",
    "        choice = input(\"Do you want to continue playing?(Y or N)): \")\n",
    "        \n",
    "        if choice not in ['Y', 'N']:\n",
    "            print(\"Sorry, invalid input. Try again!\")\n",
    "        \n",
    "    \n",
    "    return choice == 'Y'"
   ]
  },
  {
   "cell_type": "code",
   "execution_count": 7,
   "id": "90332bcc",
   "metadata": {},
   "outputs": [],
   "source": [
    "from IPython.display import clear_output\n",
    "\n",
    "def user_in(player1, player2):\n",
    "    \n",
    "    clear_output()\n",
    "    board(r)\n",
    "    d = {7 : (0, 0), 8 : (0, 1), 9 : (0, 2),\n",
    "         4 : (1, 0), 5 : (1, 1), 6 : (1, 2),\n",
    "         1 : (2, 0), 2 : (2, 1), 3 : (2, 2)}\n",
    "    \n",
    "    print(\"Player\", player1, \":\")\n",
    "    ch = int(input(\"Enter position as per num pad: \"))\n",
    "    row, col = d[ch]\n",
    "    \n",
    "    #Checking if the position given by user is valid or not\n",
    "    while check_in(row, col) == False:\n",
    "        ch = int(input(\"Enter position as per num pad: \"))\n",
    "        row, col = d[ch]\n",
    "    \n",
    "\n",
    "    r[row][col] = player1\n",
    "    \n",
    "    #Checking if any player has won and printing if so, which player has won\n",
    "    res, player = win(r)\n",
    "    if res:\n",
    "        clear_output()\n",
    "        board(r)\n",
    "        print(\"Player\",player,\"has won\")\n",
    "        return\n",
    "    \n",
    "    #checking if the game is a tie or not and stopping\n",
    "    if isTie(r):\n",
    "        print(\"No more moves possible! The game is a tie!!\")\n",
    "        return\n",
    "    \n",
    "    if not playing():\n",
    "        print(\"Player\", player1, \"has quit and Player\", player2, \"has won!\")\n",
    "        return\n",
    "    \n",
    "    user_in(player2, player1)"
   ]
  },
  {
   "cell_type": "code",
   "execution_count": 8,
   "id": "84f7248d",
   "metadata": {},
   "outputs": [
    {
     "name": "stdout",
     "output_type": "stream",
     "text": [
      "X|X|X\n",
      "-|-|-\n",
      " |O|O\n",
      "-|-|-\n",
      " | | \n",
      "-|-|-\n",
      "Player X has won\n"
     ]
    }
   ],
   "source": [
    "#initializing a 2 dimensional matrix with empty spaces\n",
    "r = [[' ' for i in range(3)] for i in range(3)]\n",
    "player1 = 'X'\n",
    "player2 = 'O'\n",
    "user_in(player1, player2)"
   ]
  }
 ],
 "metadata": {
  "kernelspec": {
   "display_name": "Python 3 (ipykernel)",
   "language": "python",
   "name": "python3"
  },
  "language_info": {
   "codemirror_mode": {
    "name": "ipython",
    "version": 3
   },
   "file_extension": ".py",
   "mimetype": "text/x-python",
   "name": "python",
   "nbconvert_exporter": "python",
   "pygments_lexer": "ipython3",
   "version": "3.10.6"
  }
 },
 "nbformat": 4,
 "nbformat_minor": 5
}
