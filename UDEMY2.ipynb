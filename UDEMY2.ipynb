{
 "cells": [
  {
   "cell_type": "markdown",
   "id": "b094464c",
   "metadata": {},
   "source": [
    "### Tick Tak Toe Game"
   ]
  },
  {
   "cell_type": "code",
   "execution_count": 7,
   "id": "9232d2f4",
   "metadata": {},
   "outputs": [],
   "source": [
    "def board(r):\n",
    "    print(\"|\".join(r[0]))\n",
    "    print(\"-|-|-\")\n",
    "    print(\"|\".join(r[1]))\n",
    "    print(\"-|-|-\")\n",
    "    print(\"|\".join(r[2]))\n",
    "    print(\"-|-|-\")"
   ]
  },
  {
   "cell_type": "code",
   "execution_count": 2,
   "id": "1ba90cbb",
   "metadata": {},
   "outputs": [],
   "source": [
    "def win(r):\n",
    "    for i in range(3):\n",
    "        if r[i][:-1] == r[i][1:] and ' ' not in r[i]:\n",
    "            return (True, r[i][0])\n",
    "    if (r[0][0] == r[1][1] and r[1][1] == r[2][2]) or (r[0][2] == r[1][1] and r[1][1] == r[2][0]):\n",
    "        return (True, r[1][1])\n",
    "    for i in range(3):\n",
    "        if r[0][i] == r[1][i] and r[1][i] == r[2][i]:\n",
    "            return (True, r[0][i])"
   ]
  },
  {
   "cell_type": "code",
   "execution_count": 9,
   "id": "90332bcc",
   "metadata": {},
   "outputs": [],
   "source": [
    "def user_in():\n",
    "    board(r)\n",
    "    print(\"Player 'X':\")\n",
    "    row, col = map(int, input(\"Enter row and column to insert: \").split())\n",
    "    if r[row - 1][col - 1] != ' ':\n",
    "        print(\"Position not empty! Please try another position\")\n",
    "        user_in()\n",
    "    r[row - 1][col - 1] = 'X'\n",
    "    board(r)\n",
    "    \n",
    "    res, player = win(r)\n",
    "    if res:\n",
    "        print(\"Player\",player,\"has won\")\n",
    "        return\n",
    "    \n",
    "    print(\"Player 'O':\")\n",
    "    row, col = map(int, input(\"Enter row and column to insert: \").split())\n",
    "    if r[row - 1][col - 1] != ' ':\n",
    "        print(\"Position not empty! Please try another position\")\n",
    "        user_in()\n",
    "    r[row - 1][col - 1] = 'O'\n",
    "    board(r)\n",
    "    \n",
    "    res, player = win(r)\n",
    "    if res:\n",
    "        print(\"Player\",player,\"has won\")\n",
    "        return\n",
    "    else:\n",
    "        user_in()"
   ]
  },
  {
   "cell_type": "code",
   "execution_count": 10,
   "id": "84f7248d",
   "metadata": {},
   "outputs": [
    {
     "name": "stdout",
     "output_type": "stream",
     "text": [
      " | | \n",
      "-|-|-\n",
      " | | \n",
      "-|-|-\n",
      " | | \n",
      "-|-|-\n",
      "Player 'X':\n",
      "Enter row and column to insert: 2 2\n",
      " | | \n",
      "-|-|-\n",
      " |X| \n",
      "-|-|-\n",
      " | | \n",
      "-|-|-\n",
      "Player   has won\n"
     ]
    }
   ],
   "source": [
    "r = [[' ' for i in range(3)] for i in range(3)]\n",
    "user_in()"
   ]
  }
 ],
 "metadata": {
  "kernelspec": {
   "display_name": "Python 3 (ipykernel)",
   "language": "python",
   "name": "python3"
  },
  "language_info": {
   "codemirror_mode": {
    "name": "ipython",
    "version": 3
   },
   "file_extension": ".py",
   "mimetype": "text/x-python",
   "name": "python",
   "nbconvert_exporter": "python",
   "pygments_lexer": "ipython3",
   "version": "3.10.6"
  }
 },
 "nbformat": 4,
 "nbformat_minor": 5
}
