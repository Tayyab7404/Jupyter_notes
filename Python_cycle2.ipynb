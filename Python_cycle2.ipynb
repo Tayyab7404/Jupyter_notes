{
 "cells": [
  {
   "cell_type": "markdown",
   "metadata": {},
   "source": [
    "Lab Cycle 2:"
   ]
  },
  {
   "cell_type": "markdown",
   "metadata": {},
   "source": [
    "Question 1:Ticket fare"
   ]
  },
  {
   "cell_type": "code",
   "execution_count": 2,
   "metadata": {},
   "outputs": [
    {
     "name": "stdout",
     "output_type": "stream",
     "text": [
      "Enter number of adults: 5\n",
      "Enter number of children: 2\n",
      "Total cost of flight:  204910.35\n"
     ]
    }
   ],
   "source": [
    "n1 = int(input(\"Enter number of adults: \"))\n",
    "n2 = int(input(\"Enter number of children: \"))\n",
    "cost = n1 * 37550.0 + n2 * (37550/3)\n",
    "cost += (7/100) * cost\n",
    "cost -= (10/100) * cost\n",
    "print(\"Total cost of flight: \", cost)"
   ]
  },
  {
   "cell_type": "markdown",
   "metadata": {},
   "source": [
    "Question 2: Multiplication of three positive integers"
   ]
  },
  {
   "cell_type": "code",
   "execution_count": 3,
   "metadata": {},
   "outputs": [
    {
     "name": "stdout",
     "output_type": "stream",
     "text": [
      "Enter three numbers: 5 7 8\n",
      "Multiplication:  8\n"
     ]
    }
   ],
   "source": [
    "a = [int(x) for x in input(\"Enter three numbers: \").strip().split()]\n",
    "mul = 1\n",
    "if 7 in a:\n",
    "  for i in range(a.index(7)+1, len(a)):\n",
    "    mul *= a[i]\n",
    "  if a.index(7) == 2: mul = -1\n",
    "else:\n",
    "  mul = a[0] * a[1] * a[2]\n",
    "print(\"Multiplication: \", mul)"
   ]
  },
  {
   "cell_type": "markdown",
   "metadata": {},
   "source": [
    "Question 3: Number of coins"
   ]
  },
  {
   "cell_type": "code",
   "execution_count": null,
   "metadata": {},
   "outputs": [],
   "source": [
    "a5 = int(input(\"Enter number of 5 rupee coins available: \"))\n",
    "a1 = int(input(\"Enter number of 1 rupee coins available: \"))\n",
    "amount = int(input(\"Enter amount to be paid: \"))\n",
    "n5 = amount // 5\n",
    "n1 = amount % 5\n",
    "if a5 - n5 >= 0  and a1 - n1 >= 0:\n",
    "    print(\"Number of 5 rupee coins: \", n5)\n",
    "    print(\"Number of 1 rupee coins: \", n1)\n",
    "else:\n",
    "    print(\"-1\")"
   ]
  },
  {
   "cell_type": "markdown",
   "metadata": {},
   "source": [
    "Question 4: Number of heads and legs"
   ]
  },
  {
   "cell_type": "code",
   "execution_count": null,
   "metadata": {},
   "outputs": [],
   "source": [
    "heads = int(input(\"Enter number of heads: \"))\n",
    "legs = int(input(\"Enter number of legs: \"))\n",
    "rabbits = legs//2 - heads\n",
    "chickens = heads - rabbits\n",
    "print(\"Number of rabbits: \", rabbits)\n",
    "print(\"Number of chickens: \", chickens)"
   ]
  },
  {
   "cell_type": "markdown",
   "metadata": {},
   "source": [
    "Question 5: Maximum of range"
   ]
  },
  {
   "cell_type": "code",
   "execution_count": null,
   "metadata": {},
   "outputs": [],
   "source": [
    "def sum_of_digits(num):\n",
    "  sum = 0\n",
    "  for i in str(num):\n",
    "    sum += int(i)\n",
    "  return sum\n",
    "\n",
    "num1 = int(input(\"Enter lower limit: \"))\n",
    "num2 = int(input(\"Enter upper limit: \"))\n",
    "max = -1\n",
    "\n",
    "for i in range(num1, num2):\n",
    "  if sum_of_digits(i)%3==0 and i % 5 == 0 and len(str(i))==2 and i > max:\n",
    "    max = i\n",
    "print(\"Maximum number in the given range: \", max)"
   ]
  },
  {
   "cell_type": "markdown",
   "metadata": {},
   "source": [
    "Question 6: Adjacent occurences"
   ]
  },
  {
   "cell_type": "code",
   "execution_count": null,
   "metadata": {},
   "outputs": [],
   "source": [
    "a = [int(x) for x in input(\"Enter the elements: \").strip().split()]\n",
    "\n",
    "count = 0\n",
    "for i in range(len(a) - 1):\n",
    "  if a[i] == a[i+1]:\n",
    "    count += 1\n",
    "\n",
    "print(\"Number of adjacent occurences: \", count)"
   ]
  },
  {
   "cell_type": "markdown",
   "metadata": {},
   "source": [
    "Question 8: 15 Leap years"
   ]
  },
  {
   "cell_type": "code",
   "execution_count": null,
   "metadata": {},
   "outputs": [],
   "source": [
    "def isLeapyear(yr):\n",
    "  if (yr % 4 == 0 and yr % 100 != 0) or (yr % 400 == 0):\n",
    "    return True\n",
    "  else: return False\n",
    "\n",
    "y = int(input(\"Enter the starting year: \"))\n",
    "n = y\n",
    "count = 0\n",
    "leaps = []\n",
    "while count != 15:\n",
    "  if isLeapyear(y):\n",
    "    leaps.append(y)\n",
    "    count += 1\n",
    "  y += 1\n",
    "\n",
    "print(f\"The list of leap years starting from {n} are: \", leaps)"
   ]
  },
  {
   "cell_type": "markdown",
   "metadata": {},
   "source": [
    "Question 9: Creating largest number"
   ]
  },
  {
   "cell_type": "code",
   "execution_count": null,
   "metadata": {},
   "outputs": [],
   "source": [
    "nums = [int(x) for x in input(\"Enter the numbers: \").split()]\n",
    "s = ''\n",
    "while nums != []:\n",
    "  m = max(nums)\n",
    "  s += str(m)\n",
    "  del nums[nums.index(m)]\n",
    "print(s)"
   ]
  },
  {
   "cell_type": "markdown",
   "metadata": {},
   "source": [
    "Question 10: Run length coding"
   ]
  },
  {
   "cell_type": "code",
   "execution_count": null,
   "metadata": {},
   "outputs": [],
   "source": [
    "s = input()\n",
    "c = 0\n",
    "for i in range(len(s)):\n",
    "  for j in range(i+1,len(s) - 1):\n",
    "    if s[i] == s[j]:\n",
    "      count += 1\n",
    "    else:\n",
    "      "
   ]
  }
 ],
 "metadata": {
  "kernelspec": {
   "display_name": "Python 3 (ipykernel)",
   "language": "python",
   "name": "python3"
  },
  "language_info": {
   "codemirror_mode": {
    "name": "ipython",
    "version": 3
   },
   "file_extension": ".py",
   "mimetype": "text/x-python",
   "name": "python",
   "nbconvert_exporter": "python",
   "pygments_lexer": "ipython3",
   "version": "3.10.4"
  }
 },
 "nbformat": 4,
 "nbformat_minor": 2
}
