{
 "cells": [
  {
   "cell_type": "markdown",
   "metadata": {},
   "source": [
    "Lab Cycle 2:"
   ]
  },
  {
   "cell_type": "markdown",
   "metadata": {},
   "source": [
    "Question 1:Ticket fare"
   ]
  },
  {
   "cell_type": "code",
   "execution_count": 2,
   "metadata": {},
   "outputs": [
    {
     "name": "stdout",
     "output_type": "stream",
     "text": [
      "Enter number of adults: 5\n",
      "Enter number of children: 2\n",
      "Total cost of flight:  204910.35\n"
     ]
    }
   ],
   "source": [
    "n1 = int(input(\"Enter number of adults: \"))\n",
    "n2 = int(input(\"Enter number of children: \"))\n",
    "cost = n1 * 37550.0 + n2 * (37550/3)\n",
    "cost += (7/100) * cost\n",
    "cost -= (10/100) * cost\n",
    "print(\"Total cost of flight: \", cost)"
   ]
  },
  {
   "cell_type": "markdown",
   "metadata": {},
   "source": [
    "Question 2: Multiplication of three positive integers"
   ]
  },
  {
   "cell_type": "code",
   "execution_count": 3,
   "metadata": {},
   "outputs": [
    {
     "name": "stdout",
     "output_type": "stream",
     "text": [
      "Enter three numbers: 5 7 8\n",
      "Multiplication:  8\n"
     ]
    }
   ],
   "source": [
    "a = [int(x) for x in input(\"Enter three numbers: \").strip().split()]\n",
    "mul = 1\n",
    "if 7 in a:\n",
    "  for i in range(a.index(7)+1, len(a)):\n",
    "    mul *= a[i]\n",
    "  if a.index(7) == 2: mul = -1\n",
    "else:\n",
    "  mul = a[0] * a[1] * a[2]\n",
    "print(\"Multiplication: \", mul)"
   ]
  },
  {
   "cell_type": "markdown",
   "metadata": {},
   "source": [
    "Question 3: Number of coins"
   ]
  },
  {
   "cell_type": "code",
   "execution_count": 2,
   "metadata": {},
   "outputs": [
    {
     "name": "stdout",
     "output_type": "stream",
     "text": [
      "Enter number of 5 rupee coins available: 4\n",
      "Enter number of 1 rupee coins available: 5\n",
      "Enter amount to be paid: 25\n",
      "Number of 5 rupee coins:  4\n",
      "Number of 1 rupee coins:  5\n"
     ]
    }
   ],
   "source": [
    "a5 = int(input(\"Enter number of 5 rupee coins available: \"))\n",
    "a1 = int(input(\"Enter number of 1 rupee coins available: \"))\n",
    "amount = int(input(\"Enter amount to be paid: \"))\n",
    "n5 = amount // 5\n",
    "n1 = amount % 5\n",
    "if a5 >= n5 and a1 >= n1:\n",
    "    print(\"Number of 5 rupee coins: \", n5)\n",
    "    print(\"Number of 1 rupee coins: \", n1)\n",
    "elif a5*5 + a1 == amount:\n",
    "    print(\"Number of 5 rupee coins: \", a5)\n",
    "    print(\"Number of 1 rupee coins: \", a1)\n",
    "else:\n",
    "    print(\"-1\")"
   ]
  },
  {
   "cell_type": "markdown",
   "metadata": {},
   "source": [
    "Question 4: Number of heads and legs"
   ]
  },
  {
   "cell_type": "code",
   "execution_count": null,
   "metadata": {},
   "outputs": [],
   "source": [
    "heads = int(input(\"Enter number of heads: \"))\n",
    "legs = int(input(\"Enter number of legs: \"))\n",
    "rabbits = legs//2 - heads\n",
    "chickens = heads - rabbits\n",
    "print(\"Number of rabbits: \", rabbits)\n",
    "print(\"Number of chickens: \", chickens)"
   ]
  },
  {
   "cell_type": "markdown",
   "metadata": {},
   "source": [
    "Question 5: Maximum of range"
   ]
  },
  {
   "cell_type": "code",
   "execution_count": 1,
   "metadata": {},
   "outputs": [
    {
     "name": "stdout",
     "output_type": "stream",
     "text": [
      "Enter lower limit: 55\n",
      "Enter upper limit: 99\n",
      "Maximum number in the given range:  90\n"
     ]
    }
   ],
   "source": [
    "num1 = int(input(\"Enter lower limit: \"))\n",
    "num2 = int(input(\"Enter upper limit: \"))\n",
    "\n",
    "maxis = []\n",
    "for i in range(num1, num2):\n",
    "  if (i//10 + i % 10)%3 == 0 and i % 5 == 0 and len(str(i))==2:\n",
    "    maxis.append(i)\n",
    "\n",
    "m = max(maxis)\n",
    "print(\"Maximum number in the given range: \", m)"
   ]
  },
  {
   "cell_type": "markdown",
   "metadata": {},
   "source": [
    "Question 6: Adjacent occurences"
   ]
  },
  {
   "cell_type": "code",
   "execution_count": null,
   "metadata": {},
   "outputs": [],
   "source": [
    "a = [int(x) for x in input(\"Enter the elements: \").strip().split()]\n",
    "\n",
    "count = 0\n",
    "for i in range(len(a) - 1):\n",
    "  if a[i] == a[i+1]:\n",
    "    count += 1\n",
    "\n",
    "print(\"Number of adjacent occurences: \", count)"
   ]
  },
  {
   "cell_type": "markdown",
   "metadata": {},
   "source": [
    "Question 7: _at and %at%"
   ]
  },
  {
   "cell_type": "code",
   "execution_count": 2,
   "metadata": {},
   "outputs": [
    {
     "name": "stdout",
     "output_type": "stream",
     "text": [
      "Enter the words: Hat, Cat, Rabbit, Matter\n",
      "_at ->  2  %at% ->  3\n"
     ]
    }
   ],
   "source": [
    "words = input(\"Enter the words: \").split(', ')\n",
    "n1 = n2 = 0\n",
    "for i in words:\n",
    "    if 'at' in i:\n",
    "        n2 += 1\n",
    "        if i.endswith('at'):\n",
    "            n1 += 1\n",
    "print(\"_at -> \", n1, \" %at% -> \", n2)"
   ]
  },
  {
   "cell_type": "markdown",
   "metadata": {},
   "source": [
    "Question 8: 15 Leap years"
   ]
  },
  {
   "cell_type": "code",
   "execution_count": null,
   "metadata": {},
   "outputs": [],
   "source": [
    "def isLeapyear(yr):\n",
    "  if (yr % 4 == 0 and yr % 100 != 0) or (yr % 400 == 0):\n",
    "    return True\n",
    "  else: return False\n",
    "\n",
    "y = int(input(\"Enter the starting year: \"))\n",
    "n = y\n",
    "count = 0\n",
    "leaps = []\n",
    "while count != 15:\n",
    "  if isLeapyear(y):\n",
    "    leaps.append(y)\n",
    "    count += 1\n",
    "  y += 1\n",
    "\n",
    "print(f\"The list of leap years starting from {n} are: \", leaps)"
   ]
  },
  {
   "cell_type": "markdown",
   "metadata": {},
   "source": [
    "Question 9: Creating largest number"
   ]
  },
  {
   "cell_type": "code",
   "execution_count": null,
   "metadata": {},
   "outputs": [],
   "source": [
    "nums = [int(x) for x in input(\"Enter the numbers: \").split()]\n",
    "s = ''\n",
    "while nums != []:\n",
    "  m = max(nums)\n",
    "  s += str(m)\n",
    "  del nums[nums.index(m)]\n",
    "print(s)"
   ]
  },
  {
   "cell_type": "markdown",
   "metadata": {},
   "source": [
    "Question 10: Run length coding"
   ]
  },
  {
   "cell_type": "code",
   "execution_count": 30,
   "metadata": {},
   "outputs": [
    {
     "name": "stdout",
     "output_type": "stream",
     "text": [
      "AABCCA\n",
      "2A1B2C1A\n"
     ]
    }
   ],
   "source": [
    "def printRLE(st):\n",
    "    code =''\n",
    "    n = len(st)\n",
    "    i = 0\n",
    "    while i < n:\n",
    "        count = 1\n",
    "        while (i+1 < n and st[i] == st[i + 1]):\n",
    "            count += 1\n",
    "            i += 1\n",
    "        i += 1\n",
    "        code += str(count) + st[i - 1]\n",
    "    return code\n",
    "\n",
    "s = input()\n",
    "#c = 0\n",
    "#f = ''\n",
    "#for i in s:\n",
    "#    if i not in f:\n",
    "#        f += i\n",
    "#code = ''\n",
    "#for i in f:\n",
    "#    code += str(s.count(i))+i\n",
    "    \n",
    "print(printRLE(s))"
   ]
  },
  {
   "cell_type": "markdown",
   "metadata": {},
   "source": [
    "Question 11: Bilingual Christmas Greetings"
   ]
  },
  {
   "cell_type": "code",
   "execution_count": 11,
   "metadata": {},
   "outputs": [
    {
     "name": "stdout",
     "output_type": "stream",
     "text": [
      "Give your wishes in English: merry christmas and happy new year\n",
      "god jul och gott nytt ar\n"
     ]
    }
   ],
   "source": [
    "def translate(d, wishes):\n",
    "    words = wishes.split()\n",
    "    swedish = []\n",
    "    for i in words:\n",
    "        swedish.append(d.get(i))\n",
    "    return \" \".join(swedish)\n",
    "\n",
    "d = {\"merry\":\"god\", \"christmas\":\"jul\", \"and\":\"och\", \"happy\":\"gott\", \"new\":\"nytt\", \"year\":\"ar\"}\n",
    "wish = input(\"Give your wishes in English: \")\n",
    "print(translate(d, wish))"
   ]
  },
  {
   "cell_type": "markdown",
   "metadata": {},
   "source": [
    "Question 12: Number of flavours of coffee"
   ]
  },
  {
   "cell_type": "code",
   "execution_count": 31,
   "metadata": {},
   "outputs": [
    {
     "name": "stdout",
     "output_type": "stream",
     "text": [
      "Enter number of flavours of toppings: 5\n",
      "Number of combinations of coffee:  32\n"
     ]
    }
   ],
   "source": [
    "def no_of_combis(n):\n",
    "    return 2**n\n",
    "\n",
    "n = int(input(\"Enter number of flavours of toppings: \"))\n",
    "print(\"Number of combinations of coffee: \", no_of_combis(n))"
   ]
  },
  {
   "cell_type": "markdown",
   "metadata": {},
   "source": [
    "Question 13: Similar elements in two string"
   ]
  },
  {
   "cell_type": "code",
   "execution_count": null,
   "metadata": {},
   "outputs": [],
   "source": [
    "s1 = input(\"Enter string 1: \")\n",
    "s2 = input(\"Enter string 2: \")\n",
    "similars = []\n",
    "for i in s1:\n",
    "    if i in s2 and i != ' ':\n",
    "        similars.append(i)\n",
    "\n",
    "print(\"\".join(similars))"
   ]
  },
  {
   "cell_type": "markdown",
   "metadata": {},
   "source": [
    "Question 14: Encrypting sentence"
   ]
  },
  {
   "cell_type": "code",
   "execution_count": null,
   "metadata": {},
   "outputs": [],
   "source": [
    "def rearrange(string):\n",
    "    vowels = \"\"\n",
    "    consonants = \"\"\n",
    "    for i in string:\n",
    "        if i in 'aeiouAEIOU':\n",
    "            vowels += i\n",
    "        else:\n",
    "            consonants += i\n",
    "    return consonants+vowels\n",
    "\n",
    "def encrypt_message(mssg):\n",
    "    words = mssg.split()\n",
    "    encrypted = []\n",
    "    for i in range(len(words)):\n",
    "        if i % 2 == 0:\n",
    "            encrypted.append(words[i][: : -1])\n",
    "        else:\n",
    "            encrypted.append(rearrange(words[i]))\n",
    "    return \" \".join(encrypted)\n",
    "\n",
    "m = input(\"Enter your message: \")\n",
    "print(encrypt_message(m))"
   ]
  },
  {
   "cell_type": "markdown",
   "metadata": {},
   "source": [
    "Question 15: Hospital specialists"
   ]
  },
  {
   "cell_type": "code",
   "execution_count": 4,
   "metadata": {},
   "outputs": [
    {
     "name": "stdout",
     "output_type": "stream",
     "text": [
      "Enter id of patients along with specialities visited: 101,O,102,E,302,P,305,P,401,E,656,O,987,E\n",
      "Maximum visited speciality in the hospital:  ENT\n"
     ]
    }
   ],
   "source": [
    "def get_key(d, val):\n",
    "    for key, value in d.items():\n",
    "        if val == value:\n",
    "            return key\n",
    "    return 'key doesnot exist'\n",
    "\n",
    "specialities = {\"P\":\"Pediatrics\",\"O\":\"Orthopedics\", \"E\":\"ENT\"}\n",
    "patients = {\"P\":0, \"O\":0, \"E\":0}\n",
    "\n",
    "l = input(\"Enter id of patients along with specialities visited: \").split(',')\n",
    "\n",
    "for i in range(1,len(l), +2):\n",
    "    patients[l[i]] += 1\n",
    "\n",
    "m = max(patients.values())\n",
    "print(\"Maximum visited speciality in the hospital: \", specialities[get_key(patients, m)])"
   ]
  },
  {
   "cell_type": "markdown",
   "metadata": {},
   "source": [
    "Question 16: SMS encoding"
   ]
  },
  {
   "cell_type": "code",
   "execution_count": 10,
   "metadata": {},
   "outputs": [
    {
     "name": "stdout",
     "output_type": "stream",
     "text": [
      "Enter the message: MSD says I love cricket and tennis too\n",
      "MSD sys I lv crckt nd tnns t \n"
     ]
    }
   ],
   "source": [
    "def has_allVowels(word):\n",
    "    for i in word:\n",
    "        if i not in 'aeiouAEIOU':\n",
    "            return False\n",
    "    return True\n",
    "\n",
    "msg = input(\"Enter the message: \").split()\n",
    "sms = ''\n",
    "for i in msg:\n",
    "    if has_allVowels(i):\n",
    "        sms += i +' '\n",
    "        continue\n",
    "    for j in i:\n",
    "        if j not in 'aeiouAEIOU':\n",
    "            sms += j\n",
    "    sms += ' '\n",
    "print(sms)\n",
    "        "
   ]
  },
  {
   "cell_type": "markdown",
   "metadata": {},
   "source": [
    "Question 17: Largest frequency"
   ]
  },
  {
   "cell_type": "code",
   "execution_count": 16,
   "metadata": {},
   "outputs": [
    {
     "name": "stdout",
     "output_type": "stream",
     "text": [
      "Enter the text: Courage is not the absence of fear but rather the judgement that something else is more important than fear\n",
      "The word with highest frequency is 'fear' with a frequency of 2\n"
     ]
    }
   ],
   "source": [
    "def largest(d):\n",
    "    k = list(d.keys())\n",
    "    vals = list(d.values())\n",
    "    large = []\n",
    "    m = max(vals)\n",
    "    if vals.count(m) > 1:\n",
    "        for i in range(len(vals)):\n",
    "            if m == vals[i]:\n",
    "                large.append(k[i])\n",
    "    lens = [len(i) for i in large]\n",
    "    return (large[lens.index(max(lens))], m)\n",
    "\n",
    "text = input(\"Enter the text: \").split()\n",
    "words = []\n",
    "\n",
    "for i in text:\n",
    "    if i not in words:\n",
    "        words.append(i)\n",
    "\n",
    "d = {}\n",
    "for i in words:\n",
    "    d.update({i : text.count(i)})\n",
    "\n",
    "w, freq = largest(d)\n",
    "print(f\"The word with highest frequency is \\'{w}\\' with a frequency of {freq}\")\n",
    "\n"
   ]
  },
  {
   "cell_type": "markdown",
   "metadata": {},
   "source": [
    "Question 18: Amicable pair"
   ]
  },
  {
   "cell_type": "code",
   "execution_count": 18,
   "metadata": {},
   "outputs": [
    {
     "name": "stdout",
     "output_type": "stream",
     "text": [
      "Enter number 1: 220\n",
      "Enter number 2: 284\n",
      "220 and 284 are an Amicable pair\n"
     ]
    }
   ],
   "source": [
    "def sum_of_divisors(num):\n",
    "    sum = 0\n",
    "    for i in range(1, num):\n",
    "        if num % i == 0:\n",
    "            sum += i\n",
    "    return sum\n",
    "\n",
    "def check_amicable_numbers(num1, num2):\n",
    "    if sum_of_divisors(num1) == num2 and sum_of_divisors(num2) == num1:\n",
    "        return True\n",
    "    else:\n",
    "        return False\n",
    "\n",
    "num1 = int(input(\"Enter number 1: \"))\n",
    "num2 = int(input(\"Enter number 2: \"))\n",
    "if check_amicable_numbers(num1, num2):\n",
    "    print(num1, 'and', num2, 'are an Amicable pair')\n",
    "else:\n",
    "    print(num1, 'and', num2, 'are not an Amicable pair')"
   ]
  }
 ],
 "metadata": {
  "kernelspec": {
   "display_name": "Python 3 (ipykernel)",
   "language": "python",
   "name": "python3"
  },
  "language_info": {
   "codemirror_mode": {
    "name": "ipython",
    "version": 3
   },
   "file_extension": ".py",
   "mimetype": "text/x-python",
   "name": "python",
   "nbconvert_exporter": "python",
   "pygments_lexer": "ipython3",
   "version": "3.10.4"
  }
 },
 "nbformat": 4,
 "nbformat_minor": 2
}
