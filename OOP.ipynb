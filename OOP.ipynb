{
 "cells": [
  {
   "cell_type": "markdown",
   "id": "376a939e",
   "metadata": {},
   "source": [
    "#### User defined Complex class"
   ]
  },
  {
   "cell_type": "code",
   "execution_count": 19,
   "id": "0e93636f",
   "metadata": {},
   "outputs": [],
   "source": [
    "class Complex:\n",
    "    \n",
    "    def __init__(self, r, i):\n",
    "        self.real = r\n",
    "        self.img = i\n",
    "        \n",
    "    def __str__(self):\n",
    "        if self.img < 0:\n",
    "            out = ''\n",
    "        else:\n",
    "            out = '+'\n",
    "        return str(self.real) + out + str(self.img) + 'j'\n",
    "    \n",
    "    def __add__(self, c2):\n",
    "        r = self.real + c2.real\n",
    "        i = self.img + c2.img\n",
    "        return Complex(r, i)\n",
    "    \n",
    "    def __sub__(self, c2):\n",
    "        r = self.real - c2.real\n",
    "        i = self.img - c2.img\n",
    "        return Complex(r, i)\n",
    "    \n",
    "    def __mul__(self, c2):\n",
    "        r = (self.real * c2.real) - (self.img * c2.img)\n",
    "        i = (self.real * c2.img) + (self.img * c2.real)\n",
    "        return Complex(r, i)\n",
    "    \n",
    "    def __truediv__(self, c2):\n",
    "        r = ((self.real * c2.real) + (self.img * c2.img)) / (c2.real ** 2 + c2.img ** 2)\n",
    "        i = ((self.img * c2.real) - (self.real * c2.img)) / (c2.real ** 2 + c2.img ** 2)\n",
    "        return Complex(r, i)\n",
    "    \n",
    "    def __gt__(self, c2):\n",
    "        m1 = (self.real ** 2 + self.img ** 2) ** (1/2)\n",
    "        m2 = (c2.real ** 2 + c2.img ** 2) ** (1/2)\n",
    "        if m1 > m2:\n",
    "            return True\n",
    "        else:\n",
    "            return False\n",
    "        \n",
    "    def __lt__(self, c2):\n",
    "        m1 = (self.real ** 2 + self.img ** 2) ** (1/2)\n",
    "        m2 = (c2.real ** 2 + c2.img ** 2) ** (1/2)\n",
    "        if m1 < m2:\n",
    "            return True\n",
    "        else:\n",
    "            return False\n",
    "    \n",
    "    def __eq__(self, c2):\n",
    "        m1 = (self.real ** 2 + self.img ** 2) ** (1/2)\n",
    "        m2 = (c2.real ** 2 + c2.img ** 2) ** (1/2)\n",
    "        if m1 == m2:\n",
    "            return True\n",
    "        else:\n",
    "            return False\n",
    "        \n",
    "    def __ge__(self, c2):\n",
    "        m1 = (self.real ** 2 + self.img ** 2) ** (1/2)\n",
    "        m2 = (c2.real ** 2 + c2.img ** 2) ** (1/2)\n",
    "        if m1 >= m2:\n",
    "            return True\n",
    "        else:\n",
    "            return False\n",
    "        \n",
    "    def __le__(self, c2):\n",
    "        m1 = (self.real ** 2 + self.img ** 2) ** (1/2)\n",
    "        m2 = (c2.real ** 2 + c2.img ** 2) ** (1/2)\n",
    "        if m1 <= m2:\n",
    "            return True\n",
    "        else:\n",
    "            return False"
   ]
  },
  {
   "cell_type": "code",
   "execution_count": 21,
   "id": "d37b3193",
   "metadata": {},
   "outputs": [
    {
     "name": "stdout",
     "output_type": "stream",
     "text": [
      "c1 + c2 = 4+3j\n",
      "c1 - c2 = 2-7j\n",
      "c1 * c2 = 13+13j\n",
      "c1 / c2 = -0.2692307692307692-0.6538461538461539j\n",
      "C1 < C2\n",
      "C1 < C2\n",
      "C1 is not equal to c2\n",
      "C1 < C2\n",
      "C1 <= C2\n"
     ]
    }
   ],
   "source": [
    "c1 = Complex(3, -2)\n",
    "c2 = Complex(1, 5)\n",
    "\n",
    "c3 = c1 + c2\n",
    "print(\"c1 + c2 =\", c3)\n",
    "\n",
    "c3 = c1 - c2\n",
    "print(\"c1 - c2 =\", c3)\n",
    "\n",
    "c3 = c1 * c2\n",
    "print(\"c1 * c2 =\", c3)\n",
    "\n",
    "c3 = c1 / c2\n",
    "print(\"c1 / c2 =\", c3)\n",
    "\n",
    "if c1 > c2:\n",
    "    print(\"C1 > C2\")\n",
    "else:\n",
    "    print(\"C1 < C2\")\n",
    "    \n",
    "if c1 < c2:\n",
    "    print(\"C1 < C2\")\n",
    "else:\n",
    "    print(\"C1 > C2\")\n",
    "    \n",
    "if c1 == c2:\n",
    "    print(\"c1 equals to c2\")\n",
    "else:\n",
    "    print(\"C1 is not equal to c2\")\n",
    "    \n",
    "if c1 >= c2:\n",
    "    print(\"C1 >= C2\")\n",
    "else:\n",
    "    print(\"C1 < C2\")\n",
    "    \n",
    "if c1 <= c2:\n",
    "    print(\"C1 <= C2\")\n",
    "else:\n",
    "    print(\"C1 > C2\")"
   ]
  },
  {
   "cell_type": "markdown",
   "id": "f4cd6367",
   "metadata": {},
   "source": [
    "#### User definec Fractional class"
   ]
  },
  {
   "cell_type": "code",
   "execution_count": 104,
   "id": "0c1cc15c",
   "metadata": {},
   "outputs": [],
   "source": [
    "class Fractional:\n",
    "    def Gcd(self, n1, n2):\n",
    "        x = min(n1, n2)\n",
    "        y = max(n1, n2)\n",
    "        if x == 0:\n",
    "            return y\n",
    "        else:\n",
    "            return self.Gcd(y%x, x)\n",
    "        \n",
    "    def __init__(self, nu, dn):\n",
    "        g = self.Gcd(abs(nu), abs(dn))\n",
    "        \n",
    "        self.numerator = nu // g\n",
    "        self.denominator = dn // g \n",
    "    \n",
    "    def __str__(self):\n",
    "        return str(self.numerator)+'/'+str(self.denominator)\n",
    "    \n",
    "    def __add__(self, f2):\n",
    "        nu = (self.numerator * f2.denominator) + (f2.numerator * self.denominator)\n",
    "        dn = (self.denominator * f2.denominator)\n",
    "        return Fractional(nu, dn)\n",
    "    \n",
    "    def __sub__(self, f2):\n",
    "        nu = (self.numerator * f2.denominator) - (f2.numerator * self.denominator)\n",
    "        dn = (self.denominator * f2.denominator)\n",
    "        return Fractional(nu, dn)\n",
    "    \n",
    "    def __mul__(self, f2):\n",
    "        nu = self.numerator * f2.numerator\n",
    "        dn = self.denominator * f2.denominator\n",
    "        return Fractional(nu, dn)\n",
    "    \n",
    "    def __truediv__(self, f2):\n",
    "        nu = self.numerator * f2.denominator\n",
    "        dn = self.denominator * f2.numerator\n",
    "        return Fractional(nu, dn)\n",
    "    \n",
    "    def __gt__(self, f2):\n",
    "        if self.numerator/self.denominator > f2.numerator/f2.denominator:\n",
    "            return True\n",
    "        else:\n",
    "            return False\n",
    "        \n",
    "    def __lt__(self, f2):\n",
    "        if self.numerator/self.denominator < f2.numerator/f2.denominator:\n",
    "            return True\n",
    "        else:\n",
    "            return False"
   ]
  },
  {
   "cell_type": "code",
   "execution_count": 105,
   "id": "98eb2128",
   "metadata": {},
   "outputs": [
    {
     "name": "stdout",
     "output_type": "stream",
     "text": [
      "11/4\n",
      "2/1\n",
      "1/1\n",
      "3/4\n",
      "3/1\n",
      "F1 > F2\n",
      "F1 > F2\n"
     ]
    }
   ],
   "source": [
    "f1 = Fractional(3, 2)\n",
    "f2 = Fractional(1, 2)\n",
    "f3 = Fractional(11, 4)\n",
    "print(f3)\n",
    "\n",
    "print(f1 + f2)\n",
    "print(f1 - f2)\n",
    "print(f1 * f2)\n",
    "print(f1 / f2)\n",
    "if f1 > f2:\n",
    "    print(\"F1 > F2\")\n",
    "else:\n",
    "    print(\"F1 < F2\")\n",
    "    \n",
    "if f1 < f2:\n",
    "    print(\"F1 < F2\")\n",
    "else:\n",
    "    print(\"F1 > F2\")"
   ]
  },
  {
   "cell_type": "markdown",
   "id": "22aa20f5",
   "metadata": {},
   "source": [
    "### Inheritance"
   ]
  },
  {
   "cell_type": "code",
   "execution_count": 7,
   "id": "20bcd2f9",
   "metadata": {},
   "outputs": [],
   "source": [
    "class Father:\n",
    "    def __init__(self):\n",
    "        print(\"Father constructor\")\n",
    "        super().__init__()\n",
    "\n",
    "class Mother:\n",
    "    def __init__(self):\n",
    "        print(\"Mother constructor\")\n",
    "        super().__init__()\n",
    "        \n",
    "class Son(Father, Mother):\n",
    "    def __init__(self):\n",
    "        print(\"Son constructor\")\n",
    "        super().__init__()"
   ]
  },
  {
   "cell_type": "code",
   "execution_count": 53,
   "id": "cf29b531",
   "metadata": {},
   "outputs": [
    {
     "name": "stdout",
     "output_type": "stream",
     "text": [
      "[<class '__main__.Son'>, <class '__main__.Parent'>, <class 'object'>]\n"
     ]
    }
   ],
   "source": [
    "s = Son()\n",
    "print(Son.mro())"
   ]
  },
  {
   "cell_type": "code",
   "execution_count": 44,
   "id": "8c8ccd2d",
   "metadata": {},
   "outputs": [
    {
     "name": "stdout",
     "output_type": "stream",
     "text": [
      "ABCD 3\n",
      "['A', 'B', 'C', 'D']\n",
      "[('A', 'B', 'C'), ('A', 'B', 'D'), ('A', 'C', 'D'), ('B', 'C', 'D')]\n"
     ]
    }
   ],
   "source": [
    "from itertools import combinations\n",
    "\n",
    "s, n = input().split()\n",
    "n = int(n)\n",
    "s = sorted(s)\n",
    "print(s)\n",
    "words = list(combinations(s, n))\n",
    "print(words)"
   ]
  },
  {
   "cell_type": "markdown",
   "id": "ffd15150",
   "metadata": {},
   "source": [
    "### Abstraction"
   ]
  },
  {
   "cell_type": "code",
   "execution_count": 24,
   "id": "625a0a6a",
   "metadata": {},
   "outputs": [],
   "source": [
    "from abc import *\n",
    "class Shape(ABC):\n",
    "    @abstractmethod\n",
    "    def area(self):\n",
    "        print(\"Area is not defined\")\n",
    "        \n",
    "class Rectangle(Shape):\n",
    "    \n",
    "    def __init__(self, dim1 = 0, dim2 = 0):\n",
    "        self.length = dim1\n",
    "        self.breadth = dim2\n",
    "    \n",
    "    def area(self):\n",
    "        print(\"Area of rectangle: \", self.length * self.breadth)\n",
    "        \n",
    "class Triangle(Shape):\n",
    "    \n",
    "    def __init__(self, dim1 = 0, dim2 = 0):\n",
    "        self.height = dim1\n",
    "        self.base = dim2\n",
    "    \n",
    "    def area(self):\n",
    "        print(\"Area of triangle: \", self.height * self.base * 0.5)"
   ]
  },
  {
   "cell_type": "code",
   "execution_count": 25,
   "id": "6a4d8152",
   "metadata": {},
   "outputs": [],
   "source": [
    "r = Rectangle(5, 10)\n",
    "t = Triangle(3, 4)"
   ]
  },
  {
   "cell_type": "code",
   "execution_count": 26,
   "id": "f558ab3e",
   "metadata": {},
   "outputs": [
    {
     "name": "stdout",
     "output_type": "stream",
     "text": [
      "Area of rectangle:  50\n",
      "Area of triangle:  6.0\n"
     ]
    }
   ],
   "source": [
    "r.area()\n",
    "t.area()"
   ]
  },
  {
   "cell_type": "markdown",
   "id": "d65a0da4",
   "metadata": {},
   "source": [
    "### Multilevel Inheritance"
   ]
  },
  {
   "cell_type": "code",
   "execution_count": 32,
   "id": "54fc8cc7",
   "metadata": {},
   "outputs": [],
   "source": [
    "class GP:\n",
    "    \n",
    "    def __init__(self, property = 0):\n",
    "        self.property = property\n",
    "\n",
    "class Parent(GP):\n",
    "    \n",
    "    def __init__(self, property = 0, property1 = 0):\n",
    "        self.property1 = property1\n",
    "        super().__init__(property)\n",
    "\n",
    "class Son(Parent):\n",
    "    \n",
    "    def __init__(self, property = 0, property1 = 0, property2 = 0):\n",
    "        self.property2 = property2\n",
    "        super().__init__(property, property1)\n",
    "    \n",
    "    def display(self):\n",
    "        print(f\"Son property = Rs.{self.property2}, Parent Property = Rs.{self.property1}, GP property = Rs.{self.property}\")"
   ]
  },
  {
   "cell_type": "code",
   "execution_count": 33,
   "id": "0bd39511",
   "metadata": {},
   "outputs": [
    {
     "name": "stdout",
     "output_type": "stream",
     "text": [
      "Son property = Rs.9000, Parent Property = Rs.100000, GP property = Rs.1000000\n"
     ]
    }
   ],
   "source": [
    "s = Son(1000000, 100000, 9000)\n",
    "s.display()"
   ]
  },
  {
   "cell_type": "markdown",
   "id": "1925cd75",
   "metadata": {},
   "source": [
    "### Multiple Inheritance"
   ]
  },
  {
   "cell_type": "code",
   "execution_count": 38,
   "id": "3bb8a0d5",
   "metadata": {},
   "outputs": [],
   "source": [
    "class Father:\n",
    "    \n",
    "    def height(self):\n",
    "        print(\"Height is 6 feet\")\n",
    "\n",
    "class Mother:\n",
    "    \n",
    "    def color(self):\n",
    "        print(\"Color is fare\")\n",
    "        \n",
    "class Son(Father, Mother):\n",
    "    \n",
    "    def __init__(self):\n",
    "        pass"
   ]
  },
  {
   "cell_type": "code",
   "execution_count": 39,
   "id": "ce6e62f6",
   "metadata": {},
   "outputs": [],
   "source": [
    "s = Son()"
   ]
  },
  {
   "cell_type": "code",
   "execution_count": 41,
   "id": "17c81059",
   "metadata": {},
   "outputs": [
    {
     "name": "stdout",
     "output_type": "stream",
     "text": [
      "Height is 6 feet\n",
      "Color is fare\n"
     ]
    }
   ],
   "source": [
    "s.height()\n",
    "s.color()"
   ]
  },
  {
   "cell_type": "markdown",
   "id": "41f57027",
   "metadata": {},
   "source": [
    "### Hierarchichal Inheritance"
   ]
  },
  {
   "cell_type": "code",
   "execution_count": 50,
   "id": "8ea8f8cf",
   "metadata": {},
   "outputs": [],
   "source": [
    "class Parent:\n",
    "    \n",
    "    def height(self):\n",
    "        print(\"Height is 6 feet\")    \n",
    "    def color(self):\n",
    "        print(\"Color is fare\")\n",
    "        \n",
    "class Son(Parent):\n",
    "    pass\n",
    "\n",
    "class Daughter(Parent):\n",
    "    pass"
   ]
  },
  {
   "cell_type": "code",
   "execution_count": 51,
   "id": "dd058ab1",
   "metadata": {},
   "outputs": [],
   "source": [
    "s = Son()\n",
    "d = Daughter()"
   ]
  },
  {
   "cell_type": "code",
   "execution_count": 52,
   "id": "d09c4374",
   "metadata": {},
   "outputs": [
    {
     "name": "stdout",
     "output_type": "stream",
     "text": [
      "Height is 6 feet\n",
      "Color is fare\n"
     ]
    }
   ],
   "source": [
    "s.height()\n",
    "d.color()"
   ]
  },
  {
   "cell_type": "code",
   "execution_count": 4,
   "id": "31248641",
   "metadata": {},
   "outputs": [
    {
     "name": "stdout",
     "output_type": "stream",
     "text": [
      "Hello I am Roshan Hello\n"
     ]
    },
    {
     "ename": "TypeError",
     "evalue": "'dict_values' object is not subscriptable",
     "output_type": "error",
     "traceback": [
      "\u001b[1;31m---------------------------------------------------------------------------\u001b[0m",
      "\u001b[1;31mTypeError\u001b[0m                                 Traceback (most recent call last)",
      "\u001b[1;32m~\\AppData\\Local\\Temp/ipykernel_11000/2295874861.py\u001b[0m in \u001b[0;36m<module>\u001b[1;34m\u001b[0m\n\u001b[0;32m     17\u001b[0m \u001b[0mlens\u001b[0m \u001b[1;33m=\u001b[0m \u001b[0md\u001b[0m\u001b[1;33m.\u001b[0m\u001b[0mvalues\u001b[0m\u001b[1;33m(\u001b[0m\u001b[1;33m)\u001b[0m\u001b[1;33m\u001b[0m\u001b[1;33m\u001b[0m\u001b[0m\n\u001b[0;32m     18\u001b[0m \u001b[0ms\u001b[0m \u001b[1;33m=\u001b[0m \u001b[0md\u001b[0m\u001b[1;33m.\u001b[0m\u001b[0mkeys\u001b[0m\u001b[1;33m(\u001b[0m\u001b[1;33m)\u001b[0m\u001b[1;33m\u001b[0m\u001b[1;33m\u001b[0m\u001b[0m\n\u001b[1;32m---> 19\u001b[1;33m \u001b[0msorting\u001b[0m\u001b[1;33m(\u001b[0m\u001b[0ms\u001b[0m\u001b[1;33m,\u001b[0m \u001b[0mlens\u001b[0m\u001b[1;33m)\u001b[0m\u001b[1;33m\u001b[0m\u001b[1;33m\u001b[0m\u001b[0m\n\u001b[0m\u001b[0;32m     20\u001b[0m \u001b[0mprint\u001b[0m\u001b[1;33m(\u001b[0m\u001b[0ms\u001b[0m\u001b[1;33m,\u001b[0m \u001b[0mlens\u001b[0m\u001b[1;33m)\u001b[0m\u001b[1;33m\u001b[0m\u001b[1;33m\u001b[0m\u001b[0m\n",
      "\u001b[1;32m~\\AppData\\Local\\Temp/ipykernel_11000/2295874861.py\u001b[0m in \u001b[0;36msorting\u001b[1;34m(keys, values)\u001b[0m\n\u001b[0;32m      2\u001b[0m     \u001b[1;32mfor\u001b[0m \u001b[0mi\u001b[0m \u001b[1;32min\u001b[0m \u001b[0mrange\u001b[0m\u001b[1;33m(\u001b[0m\u001b[0mlen\u001b[0m\u001b[1;33m(\u001b[0m\u001b[0mvalues\u001b[0m\u001b[1;33m)\u001b[0m\u001b[1;33m)\u001b[0m\u001b[1;33m:\u001b[0m\u001b[1;33m\u001b[0m\u001b[1;33m\u001b[0m\u001b[0m\n\u001b[0;32m      3\u001b[0m         \u001b[1;32mfor\u001b[0m \u001b[0mj\u001b[0m \u001b[1;32min\u001b[0m \u001b[0mrange\u001b[0m\u001b[1;33m(\u001b[0m\u001b[0mlen\u001b[0m\u001b[1;33m(\u001b[0m\u001b[0mvalues\u001b[0m\u001b[1;33m)\u001b[0m \u001b[1;33m-\u001b[0m \u001b[0mi\u001b[0m\u001b[1;33m)\u001b[0m\u001b[1;33m:\u001b[0m\u001b[1;33m\u001b[0m\u001b[1;33m\u001b[0m\u001b[0m\n\u001b[1;32m----> 4\u001b[1;33m             \u001b[1;32mif\u001b[0m \u001b[0mvalues\u001b[0m\u001b[1;33m[\u001b[0m\u001b[0mj\u001b[0m\u001b[1;33m]\u001b[0m \u001b[1;33m>\u001b[0m \u001b[0mvalues\u001b[0m\u001b[1;33m[\u001b[0m\u001b[0mj\u001b[0m\u001b[1;33m+\u001b[0m\u001b[1;36m1\u001b[0m\u001b[1;33m]\u001b[0m\u001b[1;33m:\u001b[0m\u001b[1;33m\u001b[0m\u001b[1;33m\u001b[0m\u001b[0m\n\u001b[0m\u001b[0;32m      5\u001b[0m                 \u001b[0mvalues\u001b[0m\u001b[1;33m[\u001b[0m\u001b[0mj\u001b[0m\u001b[1;33m]\u001b[0m\u001b[1;33m,\u001b[0m \u001b[0mvalues\u001b[0m\u001b[1;33m[\u001b[0m\u001b[0mj\u001b[0m\u001b[1;33m+\u001b[0m\u001b[1;36m1\u001b[0m\u001b[1;33m]\u001b[0m \u001b[1;33m=\u001b[0m \u001b[0mvalues\u001b[0m\u001b[1;33m[\u001b[0m\u001b[0mj\u001b[0m\u001b[1;33m+\u001b[0m\u001b[1;36m1\u001b[0m\u001b[1;33m]\u001b[0m\u001b[1;33m,\u001b[0m \u001b[0mvalues\u001b[0m\u001b[1;33m[\u001b[0m\u001b[0mj\u001b[0m\u001b[1;33m]\u001b[0m\u001b[1;33m\u001b[0m\u001b[1;33m\u001b[0m\u001b[0m\n\u001b[0;32m      6\u001b[0m                 \u001b[0mkeys\u001b[0m\u001b[1;33m[\u001b[0m\u001b[0mj\u001b[0m\u001b[1;33m]\u001b[0m\u001b[1;33m,\u001b[0m \u001b[0mkeys\u001b[0m\u001b[1;33m[\u001b[0m\u001b[0mj\u001b[0m\u001b[1;33m+\u001b[0m\u001b[1;36m1\u001b[0m\u001b[1;33m]\u001b[0m \u001b[1;33m=\u001b[0m \u001b[0mkeys\u001b[0m\u001b[1;33m[\u001b[0m\u001b[0mj\u001b[0m\u001b[1;33m+\u001b[0m\u001b[1;36m1\u001b[0m\u001b[1;33m]\u001b[0m\u001b[1;33m,\u001b[0m \u001b[0mkeys\u001b[0m\u001b[1;33m[\u001b[0m\u001b[0mj\u001b[0m\u001b[1;33m]\u001b[0m\u001b[1;33m\u001b[0m\u001b[1;33m\u001b[0m\u001b[0m\n",
      "\u001b[1;31mTypeError\u001b[0m: 'dict_values' object is not subscriptable"
     ]
    }
   ],
   "source": [
    "def sorting(keys, vals):\n",
    "    for i in range(len(vals)):\n",
    "        for j in range(len(vals) - i):\n",
    "            if vals[j] > vals[j+1]:\n",
    "                values[j], values[j+1] = values[j+1], values[j]\n",
    "                keys[j], keys[j+1] = keys[j+1], keys[j]\n",
    "\n",
    "\n",
    "words = [x for x in input().split()]\n",
    "words.sort()\n",
    "d = {}\n",
    "for i in words:\n",
    "    if i not in d:\n",
    "        d[i] = 1\n",
    "    else:\n",
    "        d[i] += 1\n",
    "lens = d.values()\n",
    "s = d.keys()\n",
    "sorting(s, lens)\n",
    "print(s, lens)"
   ]
  }
 ],
 "metadata": {
  "kernelspec": {
   "display_name": "Python 3 (ipykernel)",
   "language": "python",
   "name": "python3"
  },
  "language_info": {
   "codemirror_mode": {
    "name": "ipython",
    "version": 3
   },
   "file_extension": ".py",
   "mimetype": "text/x-python",
   "name": "python",
   "nbconvert_exporter": "python",
   "pygments_lexer": "ipython3",
   "version": "3.9.7"
  }
 },
 "nbformat": 4,
 "nbformat_minor": 5
}
