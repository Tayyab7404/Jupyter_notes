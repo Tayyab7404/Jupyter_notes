{
 "cells": [
  {
   "cell_type": "markdown",
   "id": "48f6589d",
   "metadata": {},
   "source": [
    "\n",
    "### Question 1"
   ]
  },
  {
   "cell_type": "code",
   "execution_count": 6,
   "id": "7aa0e973",
   "metadata": {},
   "outputs": [
    {
     "name": "stdout",
     "output_type": "stream",
     "text": [
      "5\n",
      "8\n",
      "d is not defined!\n",
      "C= 0.625\n"
     ]
    }
   ],
   "source": [
    "try:\n",
    "    a = int(input())\n",
    "    b = int(input())\n",
    "    \n",
    "    c = a / b\n",
    "    print(d)\n",
    "    \n",
    "except ZeroDivisionError:\n",
    "    print(\"Division by zero is not possible! Please try a valid number\")\n",
    "\n",
    "except ValueError:\n",
    "    print(\"Only integers are allowed! Please try a valid input\")\n",
    "\n",
    "except NameError:\n",
    "    print(\"d is not defined!\")\n",
    "    print(\"C=\",c)"
   ]
  },
  {
   "cell_type": "markdown",
   "id": "db9849a5",
   "metadata": {},
   "source": [
    "### Question 2"
   ]
  },
  {
   "cell_type": "code",
   "execution_count": 4,
   "id": "ab691314",
   "metadata": {},
   "outputs": [],
   "source": [
    "class Number:\n",
    "    def __init__(self, num):\n",
    "        self.num = num\n",
    "        \n",
    "    def __str__(self):\n",
    "        return str(self.num)\n",
    "    \n",
    "    def isPrime(self):\n",
    "        for i in range(2, self.num//2 + 1):\n",
    "            if self.num % i == 0:\n",
    "                return False\n",
    "            \n",
    "        return True\n",
    "\n",
    "    def isEven(self):\n",
    "        return self.num % 2 == 0\n",
    "    \n",
    "    def isOdd(self):\n",
    "        return self.num % 2 == 1"
   ]
  },
  {
   "cell_type": "code",
   "execution_count": 10,
   "id": "955c6c1a",
   "metadata": {},
   "outputs": [
    {
     "name": "stdout",
     "output_type": "stream",
     "text": [
      "Enter a number: 11\n",
      "11 is a Prime number\n",
      "11 is not an Even number\n",
      "11 is an Odd number\n"
     ]
    }
   ],
   "source": [
    "number = Number(int(input(\"Enter a number: \")))\n",
    "\n",
    "if number.isPrime():\n",
    "    print(number, \"is a Prime number\")\n",
    "else:\n",
    "    print(number, \"is not a Prime number\")\n",
    "\n",
    "if number.isEven():\n",
    "    print(number, \"is an Even number\")\n",
    "else:\n",
    "    print(number, \"is not an Even number\")\n",
    "    \n",
    "if number.isOdd():\n",
    "    print(number, \"is an Odd number\")\n",
    "else:\n",
    "    print(number, \"is not an Odd number\")"
   ]
  },
  {
   "cell_type": "markdown",
   "id": "33ee82be",
   "metadata": {},
   "source": [
    "### Question 3"
   ]
  },
  {
   "cell_type": "code",
   "execution_count": 7,
   "id": "2dee612a",
   "metadata": {},
   "outputs": [
    {
     "name": "stdout",
     "output_type": "stream",
     "text": [
      "Enter age of candidate: 8\n",
      "Ineligible to vote\n",
      "Exit\n"
     ]
    }
   ],
   "source": [
    "class UnderAgeError(Exception):\n",
    "    def __init__(self, m):\n",
    "        self.msg = m\n",
    "\n",
    "try:\n",
    "    age = int(input(\"Enter age of candidate: \"))\n",
    "    if age < 18:\n",
    "        raise UnderAgeError(\"Ineligible to vote\")\n",
    "    else:\n",
    "        print(\"Eligible to vote!\")\n",
    "except UnderAgeError as e:\n",
    "    print(e.msg)\n",
    "finally:\n",
    "    print(\"Exit\")"
   ]
  },
  {
   "cell_type": "markdown",
   "id": "96915ed6",
   "metadata": {},
   "source": [
    "### Question 6"
   ]
  },
  {
   "cell_type": "code",
   "execution_count": 38,
   "id": "7c54ddf4",
   "metadata": {},
   "outputs": [],
   "source": [
    "class Myfractional:\n",
    "    \n",
    "    def Gcd(self, n1, n2):\n",
    "        x = min(n1, n2)\n",
    "        y = max(n1, n2)\n",
    "        \n",
    "        if x == 0:\n",
    "            return y\n",
    "        else:\n",
    "            return self.Gcd(y%x, x)\n",
    "    \n",
    "    def __init__(self, nu, dn):\n",
    "        g = self.Gcd(abs(nu), abs(dn))\n",
    "        \n",
    "        if nu < 0 or dn < 0:\n",
    "            self.numerator = -(nu // g)\n",
    "        else:\n",
    "            self.numerator = nu // g\n",
    "        self.denominator = dn // g\n",
    "    \n",
    "    def __str__(self):\n",
    "        return str(self.numerator) + '/' + str(self.denominator)\n",
    "    \n",
    "    def __add__(self, f):\n",
    "        n = (self.numerator * f.denominator) + (self.denominator * f.numerator)\n",
    "        d = (self.denominator * f.denominator)\n",
    "        return Myfractional(n, d)\n",
    "    \n",
    "    def __sub__(self, f):\n",
    "        n = (self.numerator * f.denominator) - (self.denominator * f.numerator)\n",
    "        d = (self.denominator * f.denominator)\n",
    "        return Myfractional(n, d)\n",
    "\n",
    "    def __float__(self):\n",
    "        return self.numerator / self.denominator"
   ]
  },
  {
   "cell_type": "code",
   "execution_count": 39,
   "id": "fc17f3b4",
   "metadata": {},
   "outputs": [
    {
     "name": "stdout",
     "output_type": "stream",
     "text": [
      "Enter a fractional number(p/q): 5/6\n",
      "Enter another fracitonal number(p/q): 3/2\n",
      "Fraction1: 5/6\n",
      "Fraction2: 3/2\n",
      "f1 + f2 =  7/3\n",
      "f1 - f2 =  2/3\n",
      "Floating point representation of f1:  0.8333333333333334\n"
     ]
    }
   ],
   "source": [
    "n, d = [int(x) for x in input(\"Enter a fractional number(p/q): \").split('/')]\n",
    "f1 = Myfractional(n, d)\n",
    "\n",
    "n, d = [int(x) for x in input(\"Enter another fracitonal number(p/q): \").split('/')]\n",
    "f2 = Myfractional(n, d)\n",
    "\n",
    "print(f\"Fraction1: {f1}\\nFraction2: {f2}\")\n",
    "print(f\"f1 + f2 = \", f1 + f2)\n",
    "print(f\"f1 - f2 = \", f1 - f2)\n",
    "print(\"Floating point representation of f1: \", float(f1))"
   ]
  },
  {
   "cell_type": "markdown",
   "id": "a715ec00",
   "metadata": {},
   "source": [
    "### Question 8"
   ]
  },
  {
   "cell_type": "code",
   "execution_count": 28,
   "id": "237a89b7",
   "metadata": {},
   "outputs": [],
   "source": [
    "from abc import *\n",
    "\n",
    "class Shape(ABC):\n",
    "    \n",
    "    @abstractmethod\n",
    "    def area():\n",
    "        pass\n",
    "    \n",
    "    @abstractmethod\n",
    "    def perimeter():\n",
    "        pass\n",
    "    \n",
    "class Square(Shape):\n",
    "    \n",
    "    def __init__(self, side):\n",
    "        self.side = side\n",
    "        \n",
    "    def area(self):\n",
    "        return str(self.side ** 2)\n",
    "    \n",
    "    def perimeter(self):\n",
    "        return str(4 * self.side)\n",
    "        \n",
    "class Rectangle(Shape):\n",
    "    \n",
    "    def __init__(self, l, b):\n",
    "        self.length = l\n",
    "        self.breadth = b\n",
    "        \n",
    "    def area(self):\n",
    "        return str(self.length * self.breadth)\n",
    "    \n",
    "    def perimeter(self):\n",
    "        return str(2 * (self.length + self.breadth))"
   ]
  },
  {
   "cell_type": "code",
   "execution_count": 29,
   "id": "aa6df18e",
   "metadata": {},
   "outputs": [
    {
     "name": "stdout",
     "output_type": "stream",
     "text": [
      "Area of Square:  16\n",
      "Perimeter of Square:  16\n",
      "Area of rectangle:  42\n",
      "Perimeter of rectangle:  26\n"
     ]
    }
   ],
   "source": [
    "s = Square(4)\n",
    "r = Rectangle(6, 7)\n",
    "\n",
    "print(\"Area of Square: \", s.area())\n",
    "print(\"Perimeter of Square: \", s.perimeter())\n",
    "\n",
    "print(\"Area of rectangle: \",r.area())\n",
    "print(\"Perimeter of rectangle: \", r.perimeter())"
   ]
  },
  {
   "cell_type": "markdown",
   "id": "9b932b15",
   "metadata": {},
   "source": [
    "### Question 9"
   ]
  },
  {
   "cell_type": "code",
   "execution_count": 9,
   "id": "c56b641d",
   "metadata": {},
   "outputs": [],
   "source": [
    "class Father:\n",
    "    \n",
    "    def height(self):\n",
    "        print(\"Height is 6 feet\")\n",
    "\n",
    "class Mother:\n",
    "    \n",
    "    def color(self):\n",
    "        print(\"Color is fare\")\n",
    "        \n",
    "class Son(Father, Mother):\n",
    "    \n",
    "    def __init__(self):\n",
    "        pass"
   ]
  },
  {
   "cell_type": "code",
   "execution_count": 10,
   "id": "76a49eb8",
   "metadata": {},
   "outputs": [
    {
     "name": "stdout",
     "output_type": "stream",
     "text": [
      "Height is 6 feet\n",
      "Color is fare\n"
     ]
    }
   ],
   "source": [
    "s = Son()\n",
    "s.height()\n",
    "s.color()"
   ]
  },
  {
   "cell_type": "markdown",
   "id": "42a332fe",
   "metadata": {},
   "source": [
    "### Question 10"
   ]
  },
  {
   "cell_type": "code",
   "execution_count": 11,
   "id": "1bb69943",
   "metadata": {},
   "outputs": [],
   "source": [
    "class GP:\n",
    "    \n",
    "    def __init__(self, property = 0):\n",
    "        self.property = property\n",
    "\n",
    "class Parent(GP):\n",
    "    \n",
    "    def __init__(self, property = 0, property1 = 0):\n",
    "        self.property1 = property1\n",
    "        super().__init__(property)\n",
    "\n",
    "class Son(Parent):\n",
    "    \n",
    "    def __init__(self, property = 0, property1 = 0, property2 = 0):\n",
    "        self.property2 = property2\n",
    "        super().__init__(property, property1)\n",
    "    \n",
    "    def display(self):\n",
    "        print(f\"Son property = Rs.{self.property2}, Parent Property = Rs.{self.property1}, GP property = Rs.{self.property}\")"
   ]
  },
  {
   "cell_type": "code",
   "execution_count": 15,
   "id": "3cc2cfe2",
   "metadata": {},
   "outputs": [
    {
     "name": "stdout",
     "output_type": "stream",
     "text": [
      "Son property = Rs.90000, Parent Property = Rs.100000, GP property = Rs.1000000\n"
     ]
    }
   ],
   "source": [
    "s = Son(1000000, 100000, 90000)\n",
    "s.display()"
   ]
  }
 ],
 "metadata": {
  "kernelspec": {
   "display_name": "Python 3 (ipykernel)",
   "language": "python",
   "name": "python3"
  },
  "language_info": {
   "codemirror_mode": {
    "name": "ipython",
    "version": 3
   },
   "file_extension": ".py",
   "mimetype": "text/x-python",
   "name": "python",
   "nbconvert_exporter": "python",
   "pygments_lexer": "ipython3",
   "version": "3.10.6"
  }
 },
 "nbformat": 4,
 "nbformat_minor": 5
}
